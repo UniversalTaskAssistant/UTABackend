{
 "cells": [
  {
   "cell_type": "code",
   "execution_count": 1,
   "id": "55bba670",
   "metadata": {},
   "outputs": [
    {
     "name": "stderr",
     "output_type": "stream",
     "text": [
      "C:\\Users\\xie029\\AppData\\Local\\Programs\\Python\\Python310\\lib\\site-packages\\tqdm\\auto.py:22: TqdmWarning: IProgress not found. Please update jupyter and ipywidgets. See https://ipywidgets.readthedocs.io/en/stable/user_install.html\n",
      "  from .autonotebook import tqdm as notebook_tqdm\n"
     ]
    }
   ],
   "source": [
    "from uta.UTA import UTA\n",
    "from uta.DataStructures.Task import Task\n",
    "from uta.DataStructures.UIData import UIData"
   ]
  },
  {
   "cell_type": "code",
   "execution_count": 2,
   "id": "4117af8c",
   "metadata": {},
   "outputs": [
    {
     "name": "stdout",
     "output_type": "stream",
     "text": [
      "* Export user info to data\\user_test\\user.json *\n"
     ]
    },
    {
     "data": {
      "text/plain": [
       "<uta.DataStructures.User.User at 0x25e62a47160>"
      ]
     },
     "execution_count": 2,
     "metadata": {},
     "output_type": "execute_result"
    }
   ],
   "source": [
    "uta = UTA()\n",
    "uta.setup_user('user_test', (1080, 2280), ['whatsapp', 'facebook'])"
   ]
  },
  {
   "cell_type": "code",
   "execution_count": null,
   "id": "8de721ed",
   "metadata": {},
   "outputs": [],
   "source": []
  },
  {
   "cell_type": "code",
   "execution_count": null,
   "id": "ced96cef",
   "metadata": {},
   "outputs": [],
   "source": []
  },
  {
   "cell_type": "code",
   "execution_count": 3,
   "id": "087eb7fe",
   "metadata": {},
   "outputs": [
    {
     "name": "stdout",
     "output_type": "stream",
     "text": [
      "Import task from file data\\user1\\task1\\task.json\n",
      "Export task to file data\\user1\\task1\\task.json\n"
     ]
    },
    {
     "data": {
      "text/plain": [
       "{'Clear': False,\n",
       " 'Question': 'Which app should I use to send the message?',\n",
       " 'Options': ['SMS', 'WhatsApp', 'Email', 'Facebook Messenger']}"
      ]
     },
     "execution_count": 3,
     "metadata": {},
     "output_type": "execute_result"
    }
   ],
   "source": [
    "uta.declare_task(user_id='user1', task_id='task1', user_msg='Send \"hello\" to my mom')"
   ]
  },
  {
   "cell_type": "code",
   "execution_count": null,
   "id": "de33d002",
   "metadata": {},
   "outputs": [],
   "source": [
    "uta.declare_task(user_id='1', task_id='1', user_msg='Send it in whats app')"
   ]
  },
  {
   "cell_type": "code",
   "execution_count": 4,
   "id": "ccc44304",
   "metadata": {},
   "outputs": [
    {
     "data": {
      "text/plain": [
       "{'task_id': 'task1',\n",
       " 'user_id': 'user1',\n",
       " 'parent_task_id': None,\n",
       " 'task_description': 'Send \"hello\" to my mom',\n",
       " 'task_type': None,\n",
       " 'children_ids': [],\n",
       " 'conversation_clarification': [{'role': 'system',\n",
       "   'content': 'You are a mobile virtual assistant that understands and interacts with the user interface to complete a given task.'},\n",
       "  {'role': 'user',\n",
       "   'content': 'Assess the user task \"Send \"hello\" to my mom\" to determine if it is sufficiently clear for execution on a smartphone. Given that seniors often provide vague or incomplete task descriptions, identify the most crucial piece of missing information. If the task is clear, indicate so. If not, provide a focused question with up to 4 selectable options to clarify the task effectively. The selections should be designed to extract the most essential missing detail for task clarification. Return your analysis in JSON format, comprising: 1. \"Clear\": a boolean indicating if the task is clear enough as is, 2. \"Question\": a single question for further task clarification, 3. \"Options\": a list of up to 4 example options that may answers the question. Example response for a clear task: {\"Clear\": true, \"Question\": \"\", \"Selections\": []} Example response for an unclear task (related to app choice): {\"Clear\": false, \"Question\": \"Which app would you prefer to use for this communication?\", \"Options\": [\"Message\", \"WhatsApp\", \"Meta\", \"Phone Call\"]} Example response for an unclear task (related to message content): {\"Clear\": false, \"Question\": \"What is the content of the message you want to send?\", \"Options\": [\"Greetings\", \"Appointment request\", \"Quick catch-up\", \"Share a photo or video\"]}'},\n",
       "  {'role': 'assistant',\n",
       "   'content': '{\"Clear\": false, \"Question\": \"Which app should I use to send the message?\", \"Options\": [\"SMS\", \"WhatsApp\", \"Email\", \"Facebook Messenger\"]}'},\n",
       "  {'role': 'user', 'content': 'Send \"hello\" to my mom'},\n",
       "  {'role': 'assistant',\n",
       "   'content': '{\"Clear\": false, \"Question\": \"Which app should I use to send the message?\", \"Options\": [\"SMS\", \"WhatsApp\", \"Email\", \"Facebook Messenger\"]}'},\n",
       "  {'role': 'user', 'content': 'Send \"hello\" to my mom'},\n",
       "  {'role': 'assistant',\n",
       "   'content': '{\"Clear\": false, \"Question\": \"Which app should I use to send the message?\", \"Options\": [\"SMS\", \"WhatsApp\", \"Email\", \"Facebook Messenger\"]}'}],\n",
       " 'res_clarification': {'Clear': False,\n",
       "  'Question': 'Which app should I use to send the message?',\n",
       "  'Options': ['SMS', 'WhatsApp', 'Email', 'Facebook Messenger']},\n",
       " 'res_decomposition': {},\n",
       " 'res_classification': {},\n",
       " 'conversation_automation': [{'role': 'system',\n",
       "   'content': 'You are a mobile virtual assistant that understands and interacts with the user interface to complete a given task.'}],\n",
       " 'steps': [],\n",
       " 'task_execution_result': None}"
      ]
     },
     "execution_count": 4,
     "metadata": {},
     "output_type": "execute_result"
    }
   ],
   "source": [
    "uta.cur_task.to_dict()"
   ]
  },
  {
   "cell_type": "code",
   "execution_count": null,
   "id": "ed6f9d3a",
   "metadata": {},
   "outputs": [],
   "source": []
  },
  {
   "cell_type": "code",
   "execution_count": null,
   "id": "6d1e0d4b",
   "metadata": {},
   "outputs": [],
   "source": []
  },
  {
   "cell_type": "code",
   "execution_count": 3,
   "id": "0f230bb8",
   "metadata": {},
   "outputs": [],
   "source": [
    "ui = UIData('data/user1/task1/1.png', 'data/user1/task1/1.xml', uta.cur_user.device_resolution)"
   ]
  },
  {
   "cell_type": "code",
   "execution_count": 5,
   "id": "1fcc9dcc",
   "metadata": {},
   "outputs": [
    {
     "name": "stdout",
     "output_type": "stream",
     "text": [
      "*** Process UI ***\n",
      "* Reformat xml vh *\n",
      "* Extract ui elements from vh *\n",
      "* Analyse descriptions for elements *\n",
      "OCR Time: 1.172s\n",
      "CLs Time: 0.281s\n",
      "* Organize simplified element tree *\n"
     ]
    },
    {
     "data": {
      "text/plain": [
       "<uta.DataStructures.UIData.UIData at 0x25e62a12ef0>"
      ]
     },
     "execution_count": 5,
     "metadata": {},
     "output_type": "execute_result"
    }
   ],
   "source": [
    "uta.ui_processor.process_ui(ui)"
   ]
  },
  {
   "cell_type": "code",
   "execution_count": 10,
   "id": "7dc13280",
   "metadata": {},
   "outputs": [],
   "source": [
    "ui.show_all_elements()"
   ]
  },
  {
   "cell_type": "code",
   "execution_count": 6,
   "id": "8f2783f1",
   "metadata": {},
   "outputs": [
    {
     "name": "stdout",
     "output_type": "stream",
     "text": [
      "* Export task to file data/user_test\\1_elements.json data/user_test\\1_tree.json *\n"
     ]
    }
   ],
   "source": [
    "uta.system_connector.save_ui_data(ui, 'data/user_test')"
   ]
  },
  {
   "cell_type": "code",
   "execution_count": null,
   "id": "817002c8",
   "metadata": {},
   "outputs": [],
   "source": []
  }
 ],
 "metadata": {
  "kernelspec": {
   "display_name": "Python 3 (ipykernel)",
   "language": "python",
   "name": "python3"
  },
  "language_info": {
   "codemirror_mode": {
    "name": "ipython",
    "version": 3
   },
   "file_extension": ".py",
   "mimetype": "text/x-python",
   "name": "python",
   "nbconvert_exporter": "python",
   "pygments_lexer": "ipython3",
   "version": "3.10.10"
  }
 },
 "nbformat": 4,
 "nbformat_minor": 5
}
