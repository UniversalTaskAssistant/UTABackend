{
 "cells": [
  {
   "cell_type": "code",
   "execution_count": 1,
   "id": "55bba670",
   "metadata": {},
   "outputs": [
    {
     "name": "stderr",
     "output_type": "stream",
     "text": [
      "C:\\Users\\xie029\\AppData\\Local\\Programs\\Python\\Python310\\lib\\site-packages\\tqdm\\auto.py:22: TqdmWarning: IProgress not found. Please update jupyter and ipywidgets. See https://ipywidgets.readthedocs.io/en/stable/user_install.html\n",
      "  from .autonotebook import tqdm as notebook_tqdm\n"
     ]
    }
   ],
   "source": [
    "from uta.UTA import UTA\n",
    "from uta.DataStructures.Task import Task\n",
    "from uta.DataStructures.UIData import UIData"
   ]
  },
  {
   "cell_type": "code",
   "execution_count": null,
   "id": "c0793184",
   "metadata": {},
   "outputs": [],
   "source": []
  },
  {
   "cell_type": "code",
   "execution_count": 2,
   "id": "fa3b2e67",
   "metadata": {},
   "outputs": [],
   "source": [
    "from testing.Device import Device"
   ]
  },
  {
   "cell_type": "code",
   "execution_count": 3,
   "id": "3bcce843",
   "metadata": {},
   "outputs": [],
   "source": [
    "device = Device()"
   ]
  },
  {
   "cell_type": "code",
   "execution_count": 4,
   "id": "be61867a",
   "metadata": {},
   "outputs": [],
   "source": [
    "device.connect()"
   ]
  },
  {
   "cell_type": "code",
   "execution_count": 5,
   "id": "a9df0372",
   "metadata": {},
   "outputs": [
    {
     "data": {
      "text/plain": [
       "['com.android.cts.priv.ctsshim',\n",
       " 'com.android.internal.display.cutout.emulation.corner',\n",
       " 'com.android.internal.display.cutout.emulation.double',\n",
       " 'com.android.providers.telephony',\n",
       " 'com.android.dynsystem',\n",
       " 'com.android.theme.icon.pebble',\n",
       " 'com.android.providers.calendar',\n",
       " 'com.android.providers.media',\n",
       " 'com.android.internal.systemui.navbar.gestural_wide_back',\n",
       " 'com.android.wallpapercropper',\n",
       " 'com.android.theme.icon.vessel',\n",
       " 'com.android.theme.color.cinnamon',\n",
       " 'com.android.theme.icon_pack.rounded.systemui',\n",
       " 'com.android.theme.icon.taperedrect',\n",
       " 'com.android.documentsui',\n",
       " 'com.android.externalstorage',\n",
       " 'com.android.htmlviewer',\n",
       " 'com.android.companiondevicemanager',\n",
       " 'com.android.quicksearchbox',\n",
       " 'com.android.mms.service',\n",
       " 'com.android.providers.downloads',\n",
       " 'com.android.messaging',\n",
       " 'com.android.systemui.auto_generated_rro_product__',\n",
       " 'com.android.theme.icon_pack.rounded.android',\n",
       " 'com.android.networkstack.tethering.emulator',\n",
       " 'com.android.theme.icon_pack.circular.themepicker',\n",
       " 'com.google.android.overlay.googlewebview',\n",
       " 'com.android.timezone.updater',\n",
       " 'com.android.providers.downloads.ui',\n",
       " 'com.android.vending',\n",
       " 'com.android.pacprocessor',\n",
       " 'com.android.simappdialog',\n",
       " 'com.android.networkstack',\n",
       " 'com.android.internal.display.cutout.emulation.hole',\n",
       " 'com.android.internal.display.cutout.emulation.tall',\n",
       " 'com.android.modulemetadata',\n",
       " 'com.android.certinstaller',\n",
       " 'com.android.theme.color.black',\n",
       " 'com.android.carrierconfig',\n",
       " 'com.android.theme.color.green',\n",
       " 'com.android.theme.color.ocean',\n",
       " 'com.android.theme.color.space',\n",
       " 'com.android.internal.systemui.navbar.threebutton',\n",
       " 'android',\n",
       " 'com.android.contacts',\n",
       " 'com.android.camera2',\n",
       " 'com.android.theme.icon_pack.rounded.launcher',\n",
       " 'com.android.egg',\n",
       " 'com.android.mtp',\n",
       " 'com.android.nfc',\n",
       " 'com.android.ons',\n",
       " 'com.android.stk',\n",
       " 'com.android.launcher3',\n",
       " 'com.android.backupconfirm',\n",
       " 'com.android.internal.systemui.navbar.twobutton',\n",
       " 'com.android.provision',\n",
       " 'com.android.statementservice',\n",
       " 'com.android.settings.intelligence',\n",
       " 'com.android.calendar',\n",
       " 'com.android.internal.systemui.navbar.gestural_extra_wide_back',\n",
       " 'com.android.emulator.radio.config',\n",
       " 'com.android.providers.settings',\n",
       " 'com.android.sharedstoragebackup',\n",
       " 'com.android.printspooler',\n",
       " 'com.android.theme.icon_pack.filled.settings',\n",
       " 'com.android.dreams.basic',\n",
       " 'com.android.providers.settings.auto_generated_rro_product__',\n",
       " 'com.android.se',\n",
       " 'com.android.inputdevices',\n",
       " 'com.android.bips',\n",
       " 'com.android.theme.icon_pack.circular.settings',\n",
       " 'com.android.musicfx',\n",
       " 'com.google.android.apps.maps',\n",
       " 'com.android.internal.display.cutout.emulation.emu01',\n",
       " 'com.android.cellbroadcastreceiver',\n",
       " 'com.google.android.webview',\n",
       " 'com.android.theme.icon.teardrop',\n",
       " 'android.ext.shared',\n",
       " 'com.android.onetimeinitializer',\n",
       " 'com.android.server.telecom',\n",
       " 'com.android.cellbroadcastservice',\n",
       " 'com.android.theme.icon_pack.rounded.themepicker',\n",
       " 'com.android.keychain',\n",
       " 'com.android.service.ims',\n",
       " 'com.android.printservice.recommendation',\n",
       " 'com.android.dialer',\n",
       " 'com.android.gallery3d',\n",
       " 'com.android.theme.icon_pack.filled.systemui',\n",
       " 'com.google.android.gms',\n",
       " 'com.google.android.gsf',\n",
       " 'android.ext.services',\n",
       " 'com.android.wifi.resources',\n",
       " 'com.android.calllogbackup',\n",
       " 'com.android.safetyregulatoryinfo',\n",
       " 'com.android.localtransport',\n",
       " 'com.android.packageinstaller',\n",
       " 'com.android.carrierdefaultapp',\n",
       " 'com.android.theme.font.notoserifsource',\n",
       " 'com.android.theme.icon_pack.filled.android',\n",
       " 'com.android.proxyhandler',\n",
       " 'com.android.internal.display.cutout.emulation.waterfall',\n",
       " 'com.android.theme.icon_pack.circular.systemui',\n",
       " 'com.android.inputmethod.latin',\n",
       " 'org.chromium.webview_shell',\n",
       " 'com.android.managedprovisioning',\n",
       " 'com.android.networkstack.tethering',\n",
       " 'com.android.soundpicker',\n",
       " 'com.android.dreams.phototable',\n",
       " 'com.android.carrierconfig.auto_generated_rro_product__',\n",
       " 'com.android.emulator.multidisplay',\n",
       " 'com.android.providers.partnerbookmarks',\n",
       " 'com.android.service.ims.presence',\n",
       " 'com.android.wallpaper.livepicker',\n",
       " 'com.android.cellbroadcastreceiver.module',\n",
       " 'com.android.apps.tag',\n",
       " 'com.google.android.overlay.emulatorgmsconfig',\n",
       " 'com.android.theme.icon.squircle',\n",
       " 'com.google.android.sdksetup',\n",
       " 'com.android.storagemanager',\n",
       " 'com.android.bookmarkprovider',\n",
       " 'com.android.settings',\n",
       " 'com.android.theme.icon_pack.filled.launcher',\n",
       " 'com.android.networkstack.permissionconfig',\n",
       " 'com.android.cts.ctsshim',\n",
       " 'com.android.theme.icon_pack.circular.launcher',\n",
       " 'com.android.vpndialogs',\n",
       " 'com.android.music',\n",
       " 'com.android.phone',\n",
       " 'com.android.shell',\n",
       " 'com.android.theme.icon_pack.filled.themepicker',\n",
       " 'com.android.wallpaperbackup',\n",
       " 'com.android.providers.blockednumber',\n",
       " 'com.android.providers.userdictionary',\n",
       " 'com.android.providers.media.module',\n",
       " 'com.android.emergency',\n",
       " 'com.android.hotspot2.osulogin',\n",
       " 'com.android.internal.systemui.navbar.gestural',\n",
       " 'com.android.location.fused',\n",
       " 'com.android.theme.color.orchid',\n",
       " 'com.android.deskclock',\n",
       " 'com.android.systemui',\n",
       " 'com.android.theme.color.purple',\n",
       " 'com.android.bluetoothmidiservice',\n",
       " 'com.android.permissioncontroller',\n",
       " 'com.android.traceur',\n",
       " 'android.auto_generated_rro_product__',\n",
       " 'com.android.bluetooth',\n",
       " 'com.android.wallpaperpicker',\n",
       " 'com.android.providers.contacts',\n",
       " 'com.android.captiveportallogin',\n",
       " 'com.android.theme.icon.roundedrect',\n",
       " 'com.android.internal.systemui.navbar.gestural_narrow_back',\n",
       " 'com.android.theme.icon_pack.rounded.settings',\n",
       " 'com.android.theme.icon_pack.circular.android',\n",
       " '']"
      ]
     },
     "execution_count": 5,
     "metadata": {},
     "output_type": "execute_result"
    }
   ],
   "source": [
    "device.get_app_list_on_the_device()"
   ]
  },
  {
   "cell_type": "code",
   "execution_count": null,
   "id": "98d7f288",
   "metadata": {},
   "outputs": [],
   "source": []
  },
  {
   "cell_type": "code",
   "execution_count": 2,
   "id": "4117af8c",
   "metadata": {},
   "outputs": [
    {
     "name": "stdout",
     "output_type": "stream",
     "text": [
      "- Export user info to data\\user1\\user.json -\n"
     ]
    }
   ],
   "source": [
    "uta = UTA()\n",
    "user = uta.setup_user('user1', (1080, 2280), ['whatsapp', 'facebook'])"
   ]
  },
  {
   "cell_type": "code",
   "execution_count": 3,
   "id": "087eb7fe",
   "metadata": {},
   "outputs": [
    {
     "name": "stdout",
     "output_type": "stream",
     "text": [
      "*** Declare task ***\n",
      "- Import user info from file data\\user1\\user.json -\n",
      "* Clarify task *\n",
      "{'Clear': False, 'Question': 'Which app should I use to send the message?', 'Options': ['SMS Messaging', 'WhatsApp', 'Email', 'Facebook Messenger']}\n",
      "- Export task to file data\\user1\\task1\\task.json -\n"
     ]
    },
    {
     "data": {
      "text/plain": [
       "{'Clear': False,\n",
       " 'Question': 'Which app should I use to send the message?',\n",
       " 'Options': ['SMS Messaging', 'WhatsApp', 'Email', 'Facebook Messenger']}"
      ]
     },
     "execution_count": 3,
     "metadata": {},
     "output_type": "execute_result"
    }
   ],
   "source": [
    "uta.declare_task(user_id='user1', task_id='task1', user_msg='Send \"hello\" to my mom')"
   ]
  },
  {
   "cell_type": "code",
   "execution_count": 4,
   "id": "7dbb684c",
   "metadata": {},
   "outputs": [
    {
     "name": "stdout",
     "output_type": "stream",
     "text": [
      "*** Declare task ***\n",
      "- Import user info from file data\\user1\\user.json -\n",
      "- Import task from file data\\user1\\task1\\task.json -\n",
      "* Clarify task *\n",
      "{'Clear': True, 'Question': '', 'Options': []}\n",
      "* Classify task *\n",
      "{'Task Type': 'App-Related Task', 'Explanation': \"This task requires the use of a specific messaging or communication applications to send the message 'hello' to the user's mom.\"}\n",
      "* Decompose task *\n",
      "{'Decompose': 'True', 'Sub-tasks': ['Open messaging app on the phone', \"Select mom's contact\", \"Compose the message 'hello'\", 'Send the message'], 'Explanation': 'This task involves multiple steps that need to be performed independently and sequentially, from launching the messaging app to sending the message itself.'}\n",
      "- Export task to file data\\user1\\task1\\task.json -\n"
     ]
    },
    {
     "data": {
      "text/plain": [
       "{'Decompose': 'True',\n",
       " 'Sub-tasks': ['Open messaging app on the phone',\n",
       "  \"Select mom's contact\",\n",
       "  \"Compose the message 'hello'\",\n",
       "  'Send the message'],\n",
       " 'Explanation': 'This task involves multiple steps that need to be performed independently and sequentially, from launching the messaging app to sending the message itself.'}"
      ]
     },
     "execution_count": 4,
     "metadata": {},
     "output_type": "execute_result"
    }
   ],
   "source": [
    "uta.declare_task(user_id='user1', task_id='task1', user_msg='Send it in whats app')"
   ]
  },
  {
   "cell_type": "code",
   "execution_count": 6,
   "id": "d1f89d4f",
   "metadata": {},
   "outputs": [
    {
     "data": {
      "text/plain": [
       "{'task_id': 'task1',\n",
       " 'user_id': 'user1',\n",
       " 'parent_task_id': None,\n",
       " 'task_description': 'Send \"hello\" to my mom',\n",
       " 'task_type': 'App-Related Task',\n",
       " 'children_ids': [],\n",
       " 'conversation_clarification': [{'role': 'system',\n",
       "   'content': 'You are a mobile virtual assistant that understands and interacts with the user interface to complete a given task.'},\n",
       "  {'role': 'user',\n",
       "   'content': 'Assess the user task \"Send \"hello\" to my mom\" to determine if it is sufficiently clear for execution on a smartphone. Given that seniors often provide vague or incomplete task descriptions, identify the most crucial piece of missing information. If the task is clear, indicate so. If not, provide a focused question with up to 4 selectable options to clarify the task effectively. The Options should be designed to extract the most essential missing detail for task clarification. Return your analysis in JSON format, comprising: 1. \"Clear\": a boolean indicating if the task is clear enough. 2. \"Question\": a single question for further task clarification. 3. \"Options\": a list of up to 4 example options that may answers the question. Response for a clear task: {\"Clear\": true, \"Question\": \"\", \"Options\": []}.Example response for an unclear task (related to app choice): {\"Clear\": false, \"Question\": \"Which app would you prefer to use for this communication?\", \"Options\": [\"Message\", \"WhatsApp\", \"Meta\", \"Phone Call\"]}. Example response for an unclear task (related to message content): {\"Clear\": false, \"Question\": \"What is the content of the message you want to send?\", \"Options\": [\"Greetings\", \"Appointment request\", \"Quick catch-up\", \"Share a photo or video\"]}.'},\n",
       "  {'role': 'assistant',\n",
       "   'content': '{\"Clear\": false, \"Question\": \"Which app should I use to send the message?\", \"Options\": [\"SMS Messaging\", \"WhatsApp\", \"Email\", \"Facebook Messenger\"]}'},\n",
       "  {'role': 'user', 'content': 'Send it in whats app'},\n",
       "  {'role': 'assistant',\n",
       "   'content': '{\"Clear\": true, \"Question\": \"\", \"Options\": []}'}],\n",
       " 'res_clarification': {'Clear': True, 'Question': '', 'Options': []},\n",
       " 'res_classification': {'Task Type': 'App-Related Task',\n",
       "  'Explanation': \"This task requires the use of a specific messaging or communication applications to send the message 'hello' to the user's mom.\"},\n",
       " 'res_decomposition': {'Decompose': 'True',\n",
       "  'Sub-tasks': ['Open messaging app on the phone',\n",
       "   \"Select mom's contact\",\n",
       "   \"Compose the message 'hello'\",\n",
       "   'Send the message'],\n",
       "  'Explanation': 'This task involves multiple steps that need to be performed independently and sequentially, from launching the messaging app to sending the message itself.'},\n",
       " 'conversation_automation': [{'role': 'system',\n",
       "   'content': 'You are a mobile virtual assistant that understands and interacts with the user interface to complete a given task.'}],\n",
       " 'steps': [],\n",
       " 'task_execution_result': None}"
      ]
     },
     "execution_count": 6,
     "metadata": {},
     "output_type": "execute_result"
    }
   ],
   "source": [
    "uta.cur_task.to_dict()"
   ]
  },
  {
   "cell_type": "code",
   "execution_count": null,
   "id": "7c78334c",
   "metadata": {},
   "outputs": [],
   "source": []
  },
  {
   "cell_type": "code",
   "execution_count": 5,
   "id": "ccc44304",
   "metadata": {},
   "outputs": [
    {
     "data": {
      "text/plain": [
       "{'Clear': True,\n",
       " 'Task': \"The user wants to send 'hello' to their mom through WhatsApp.\",\n",
       " 'Question': '',\n",
       " 'Options': []}"
      ]
     },
     "execution_count": 5,
     "metadata": {},
     "output_type": "execute_result"
    }
   ],
   "source": [
    "uta.cur_task.res_clarification"
   ]
  },
  {
   "cell_type": "code",
   "execution_count": 6,
   "id": "ed6f9d3a",
   "metadata": {},
   "outputs": [
    {
     "data": {
      "text/plain": [
       "[{'role': 'system',\n",
       "  'content': 'You are a mobile virtual assistant that understands and interacts with the user interface to complete a given task.'},\n",
       " {'role': 'user',\n",
       "  'content': 'Assess the user task \"Send \"hello\" to my mom\" to determine if it is sufficiently clear for execution on a smartphone. Given that seniors often provide vague or incomplete task descriptions, identify the most crucial piece of missing information. If the task is clear, indicate so. If not, provide a focused question with up to 4 selectable options to clarify the task effectively. The Options should be designed to extract the most essential missing detail for task clarification. Return your analysis in JSON format, comprising: 1. \"Clear\": a boolean indicating if the task is clear enough. 2. \"Question\": a single question for further task clarification. 3. \"Options\": a list of up to 4 example options that may answers the question. Response for a clear task: {\"Clear\": true, \"Question\": \"\", \"Options\": []}.Example response for an unclear task (related to app choice): {\"Clear\": false, \"Question\": \"Which app would you prefer to use for this communication?\", \"Options\": [\"Message\", \"WhatsApp\", \"Meta\", \"Phone Call\"]}. Example response for an unclear task (related to message content): {\"Clear\": false, \"Question\": \"What is the content of the message you want to send?\", \"Options\": [\"Greetings\", \"Appointment request\", \"Quick catch-up\", \"Share a photo or video\"]}.'},\n",
       " {'role': 'assistant',\n",
       "  'content': '{\"Clear\": false, \"Question\": \"How would you like to send \\'hello\\' to your mom?\", \"Options\": [\"Text Message\", \"WhatsApp\", \"Email\", \"Voice Call\"]}'},\n",
       " {'role': 'user', 'content': 'Send it in whats app'},\n",
       " {'role': 'assistant',\n",
       "  'content': '{\"Clear\": true, \"Task\": \"The user wants to send \\'hello\\' to their mom through WhatsApp.\", \"Question\": \"\", \"Options\": []}'}]"
      ]
     },
     "execution_count": 6,
     "metadata": {},
     "output_type": "execute_result"
    }
   ],
   "source": [
    "uta.cur_task.conversation_clarification"
   ]
  },
  {
   "cell_type": "code",
   "execution_count": null,
   "id": "6d1e0d4b",
   "metadata": {},
   "outputs": [],
   "source": []
  },
  {
   "cell_type": "code",
   "execution_count": 7,
   "id": "91a6b9ba",
   "metadata": {},
   "outputs": [],
   "source": [
    "ui = UIData('data/user1/task1/1.png', 'data/user1/task1/1.xml', uta.cur_user.device_resolution)"
   ]
  },
  {
   "cell_type": "code",
   "execution_count": 9,
   "id": "cfd71b37",
   "metadata": {},
   "outputs": [
    {
     "name": "stdout",
     "output_type": "stream",
     "text": [
      "*** Process UI ***\n",
      "* Reformat xml vh *\n",
      "* Extract ui elements from vh *\n",
      "* Analyse descriptions for elements *\n",
      "OCR Time: 0.803s\n",
      "CLs Time: 0.271s\n",
      "* Organize simplified element tree *\n"
     ]
    },
    {
     "data": {
      "text/plain": [
       "<uta.DataStructures.UIData.UIData at 0x1e4c8e627a0>"
      ]
     },
     "execution_count": 9,
     "metadata": {},
     "output_type": "execute_result"
    }
   ],
   "source": [
    "uta.ui_processor.process_ui(ui)"
   ]
  },
  {
   "cell_type": "code",
   "execution_count": null,
   "id": "37deded6",
   "metadata": {},
   "outputs": [],
   "source": []
  },
  {
   "cell_type": "code",
   "execution_count": 6,
   "id": "aa2badf8",
   "metadata": {},
   "outputs": [
    {
     "name": "stdout",
     "output_type": "stream",
     "text": [
      "* Export task to file data/user_test\\1_elements.json data/user_test\\1_tree.json *\n"
     ]
    }
   ],
   "source": [
    "uta.system_connector.save_ui_data(ui, 'data/user_test')"
   ]
  },
  {
   "cell_type": "code",
   "execution_count": 7,
   "id": "350f5c24",
   "metadata": {},
   "outputs": [
    {
     "name": "stdout",
     "output_type": "stream",
     "text": [
      "* Import user info from file data\\user1\\user.json *\n",
      "* Import task from file data\\user1\\task1\\task.json *\n"
     ]
    }
   ],
   "source": [
    "user, task = uta.instantiate_user_task('user1', 'task1')"
   ]
  },
  {
   "cell_type": "code",
   "execution_count": 8,
   "id": "ae469fca",
   "metadata": {},
   "outputs": [
    {
     "data": {
      "text/plain": [
       "{'task_id': 'task1',\n",
       " 'user_id': 'user1',\n",
       " 'parent_task_id': None,\n",
       " 'task_description': 'Send \"hello\" to my mom',\n",
       " 'task_type': None,\n",
       " 'children_ids': [],\n",
       " 'conversation_clarification': [{'role': 'system',\n",
       "   'content': 'You are a mobile virtual assistant that understands and interacts with the user interface to complete a given task.'},\n",
       "  {'role': 'user',\n",
       "   'content': 'Assess the user task \"Send \"hello\" to my mom\" to determine if it is sufficiently clear for execution on a smartphone. Given that seniors often provide vague or incomplete task descriptions, identify the most crucial piece of missing information. If the task is clear, indicate so. If not, provide a focused question with up to 4 selectable options to clarify the task effectively. The selections should be designed to extract the most essential missing detail for task clarification. Return your analysis in JSON format, comprising: 1. \"Clear\": a boolean indicating if the task is clear enough as is, 2. \"Question\": a single question for further task clarification, 3. \"Options\": a list of up to 4 example options that may answers the question. Example response for a clear task: {\"Clear\": true, \"Question\": \"\", \"Selections\": []} Example response for an unclear task (related to app choice): {\"Clear\": false, \"Question\": \"Which app would you prefer to use for this communication?\", \"Options\": [\"Message\", \"WhatsApp\", \"Meta\", \"Phone Call\"]} Example response for an unclear task (related to message content): {\"Clear\": false, \"Question\": \"What is the content of the message you want to send?\", \"Options\": [\"Greetings\", \"Appointment request\", \"Quick catch-up\", \"Share a photo or video\"]}'},\n",
       "  {'role': 'assistant',\n",
       "   'content': '{\"Clear\": false, \"Question\": \"Which app should I use to send the message?\", \"Options\": [\"SMS\", \"WhatsApp\", \"Email\", \"Facebook Messenger\"]}'},\n",
       "  {'role': 'user', 'content': 'Send \"hello\" to my mom'},\n",
       "  {'role': 'assistant',\n",
       "   'content': '{\"Clear\": false, \"Question\": \"Which app should I use to send the message?\", \"Options\": [\"SMS\", \"WhatsApp\", \"Email\", \"Facebook Messenger\"]}'},\n",
       "  {'role': 'user', 'content': 'Send \"hello\" to my mom'},\n",
       "  {'role': 'assistant',\n",
       "   'content': '{\"Clear\": false, \"Question\": \"Which app should I use to send the message?\", \"Options\": [\"SMS\", \"WhatsApp\", \"Email\", \"Facebook Messenger\"]}'}],\n",
       " 'res_clarification': {'Clear': False,\n",
       "  'Question': 'Which app should I use to send the message?',\n",
       "  'Options': ['SMS', 'WhatsApp', 'Email', 'Facebook Messenger']},\n",
       " 'res_decomposition': {},\n",
       " 'res_classification': {},\n",
       " 'conversation_automation': [{'role': 'system',\n",
       "   'content': 'You are a mobile virtual assistant that understands and interacts with the user interface to complete a given task.'}],\n",
       " 'steps': [],\n",
       " 'task_execution_result': None}"
      ]
     },
     "execution_count": 8,
     "metadata": {},
     "output_type": "execute_result"
    }
   ],
   "source": [
    "task.to_dict()"
   ]
  },
  {
   "cell_type": "code",
   "execution_count": null,
   "id": "11ceda96",
   "metadata": {},
   "outputs": [],
   "source": []
  }
 ],
 "metadata": {
  "kernelspec": {
   "display_name": "Python 3 (ipykernel)",
   "language": "python",
   "name": "python3"
  },
  "language_info": {
   "codemirror_mode": {
    "name": "ipython",
    "version": 3
   },
   "file_extension": ".py",
   "mimetype": "text/x-python",
   "name": "python",
   "nbconvert_exporter": "python",
   "pygments_lexer": "ipython3",
   "version": "3.10.10"
  }
 },
 "nbformat": 4,
 "nbformat_minor": 5
}
