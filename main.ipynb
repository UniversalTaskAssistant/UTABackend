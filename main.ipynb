{
 "cells": [
  {
   "cell_type": "code",
   "execution_count": 1,
   "id": "55bba670",
   "metadata": {},
   "outputs": [
    {
     "name": "stderr",
     "output_type": "stream",
     "text": [
      "C:\\Users\\xie029\\AppData\\Local\\Programs\\Python\\Python310\\lib\\site-packages\\tqdm\\auto.py:22: TqdmWarning: IProgress not found. Please update jupyter and ipywidgets. See https://ipywidgets.readthedocs.io/en/stable/user_install.html\n",
      "  from .autonotebook import tqdm as notebook_tqdm\n"
     ]
    }
   ],
   "source": [
    "from uta.UTA import UTA\n",
    "from uta.DataStructures.Task import Task\n",
    "from uta.DataStructures.UIData import UIData"
   ]
  },
  {
   "cell_type": "code",
   "execution_count": 2,
   "id": "c0793184",
   "metadata": {},
   "outputs": [],
   "source": [
    "uta = UTA()"
   ]
  },
  {
   "cell_type": "markdown",
   "id": "75ea5df4",
   "metadata": {},
   "source": [
    "### 0. Setup user"
   ]
  },
  {
   "cell_type": "code",
   "execution_count": 3,
   "id": "0072ab86",
   "metadata": {},
   "outputs": [
    {
     "name": "stdout",
     "output_type": "stream",
     "text": [
      "- Export user info to data\\user1\\user.json -\n"
     ]
    },
    {
     "data": {
      "text/plain": [
       "<uta.DataStructures.User.User at 0x15b064befb0>"
      ]
     },
     "execution_count": 3,
     "metadata": {},
     "output_type": "execute_result"
    }
   ],
   "source": [
    "uta.setup_user('user1', (1080, 2280), ['whatsapp', 'facebook'])"
   ]
  },
  {
   "cell_type": "markdown",
   "id": "701da945",
   "metadata": {},
   "source": [
    "### 1. Declear task"
   ]
  },
  {
   "cell_type": "code",
   "execution_count": 5,
   "id": "eea712e8",
   "metadata": {},
   "outputs": [
    {
     "name": "stdout",
     "output_type": "stream",
     "text": [
      "*** Declare task ***\n",
      "- Import user info from file data\\user1\\user.json -\n",
      "* Clarify task *\n",
      "{'Clear': False, 'Question': 'How would you like to send the message?', 'Options': ['Text Message', 'WhatsApp', 'Email', 'Facebook Messenger']}\n",
      "- Export task to file data\\user1\\task1\\task.json -\n"
     ]
    },
    {
     "data": {
      "text/plain": [
       "{'Clear': False,\n",
       " 'Question': 'How would you like to send the message?',\n",
       " 'Options': ['Text Message', 'WhatsApp', 'Email', 'Facebook Messenger']}"
      ]
     },
     "execution_count": 5,
     "metadata": {},
     "output_type": "execute_result"
    }
   ],
   "source": [
    "uta.declare_task(user_id='user1', task_id='task1', user_msg='Send \"hello\" to my mom')"
   ]
  },
  {
   "cell_type": "code",
   "execution_count": 6,
   "id": "f0e26b6d",
   "metadata": {},
   "outputs": [
    {
     "name": "stdout",
     "output_type": "stream",
     "text": [
      "*** Declare task ***\n",
      "- Import user info from file data\\user1\\user.json -\n",
      "- Import task from file data\\user1\\task1\\task.json -\n",
      "* Clarify task *\n",
      "{'Clear': True, 'Question': '', 'Options': []}\n",
      "* Classify task *\n",
      "{'Task Type': 'App-Related Task', 'Explanation': \"This task requires using a specific app for communication, such as a messaging or email app, to send a message to the user's mom.\"}\n",
      "* Decompose task *\n",
      "{'Decompose': 'True', 'Sub-tasks': [\"Fetch Contact details of 'mom' from contact list\", 'Open messaging app', \"Select 'mom' contact\", \"Type 'hello' as message\", 'Send message'], 'Explanation': 'The task involves several independent and sequential actions such as fetching contact details, opening the messaging app, choosing the contact, typing the message, and finally, sending the message.'}\n",
      "- Export task to file data\\user1\\task1\\task.json -\n"
     ]
    },
    {
     "data": {
      "text/plain": [
       "{'Decompose': 'True',\n",
       " 'Sub-tasks': [\"Fetch Contact details of 'mom' from contact list\",\n",
       "  'Open messaging app',\n",
       "  \"Select 'mom' contact\",\n",
       "  \"Type 'hello' as message\",\n",
       "  'Send message'],\n",
       " 'Explanation': 'The task involves several independent and sequential actions such as fetching contact details, opening the messaging app, choosing the contact, typing the message, and finally, sending the message.'}"
      ]
     },
     "execution_count": 6,
     "metadata": {},
     "output_type": "execute_result"
    }
   ],
   "source": [
    "uta.declare_task(user_id='user1', task_id='task1', user_msg='Send it in whats app')"
   ]
  },
  {
   "cell_type": "markdown",
   "id": "a8c56ef5",
   "metadata": {},
   "source": [
    "### 2. Check action on the UI for the task"
   ]
  },
  {
   "cell_type": "code",
   "execution_count": 4,
   "id": "53337a26",
   "metadata": {},
   "outputs": [
    {
     "name": "stdout",
     "output_type": "stream",
     "text": [
      "- Import user info from file data\\user1\\user.json -\n",
      "- Import task from file data\\user1\\task1\\task.json -\n",
      "\n",
      " *** Process UI ***\n",
      "* Reformat xml vh *\n",
      "* Extract ui elements from vh *\n",
      "* Analyse descriptions for elements *\n",
      "OCR Time: 0.873s\n",
      "CLs Time: 0.235s\n",
      "* Organize simplified element tree *\n",
      "\n",
      "*** Check Action on UI *** \n",
      "* Check UI and Task Relation *\n",
      "{'Relation': 'Unrelated', 'Reason': \"The UI hierarchy shows various elements of a map application, such as skip buttons, sign-in options, and location-related features. There is no element pertaining to a messaging or communication feature that would be necessary to 'Send 'hello' to my mom'.\"}\n",
      "* Check Any Action to Go Back to Related UI *\n",
      "{'Can': 'No', 'Element': 'None', 'Reason': \"There are no elements in the UI hierarchy that would navigate to a previous screen or a different section of the app that could be used to complete the task 'Send 'hello' to my mom'\", 'Description': 'None'}\n",
      "* Check Related App *\n",
      "{'App': 'com.whatsapp', 'Reason': \"The task of sending a message to 'my mom' can be performed directly through this app.\"}\n"
     ]
    },
    {
     "data": {
      "text/plain": [
       "{'Action': 'Launch', 'App': 'com.whatsapp', 'Description': 'Launch app'}"
      ]
     },
     "execution_count": 4,
     "metadata": {},
     "output_type": "execute_result"
    }
   ],
   "source": [
    "uta.automate_task(user_id='user1', task_id='task1', ui_img_file='data/user1/task1/1.png', ui_xml_file='data/user1/task1/1.xml', printlog=False)"
   ]
  },
  {
   "cell_type": "code",
   "execution_count": null,
   "id": "86a232e5",
   "metadata": {},
   "outputs": [],
   "source": []
  },
  {
   "cell_type": "code",
   "execution_count": null,
   "id": "6d1e0d4b",
   "metadata": {},
   "outputs": [],
   "source": []
  },
  {
   "cell_type": "code",
   "execution_count": 7,
   "id": "91a6b9ba",
   "metadata": {},
   "outputs": [],
   "source": [
    "ui = UIData('data/user1/task1/1.png', 'data/user1/task1/1.xml', uta.cur_user.device_resolution)"
   ]
  },
  {
   "cell_type": "code",
   "execution_count": 9,
   "id": "cfd71b37",
   "metadata": {},
   "outputs": [
    {
     "name": "stdout",
     "output_type": "stream",
     "text": [
      "*** Process UI ***\n",
      "* Reformat xml vh *\n",
      "* Extract ui elements from vh *\n",
      "* Analyse descriptions for elements *\n",
      "OCR Time: 0.803s\n",
      "CLs Time: 0.271s\n",
      "* Organize simplified element tree *\n"
     ]
    },
    {
     "data": {
      "text/plain": [
       "<uta.DataStructures.UIData.UIData at 0x1e4c8e627a0>"
      ]
     },
     "execution_count": 9,
     "metadata": {},
     "output_type": "execute_result"
    }
   ],
   "source": [
    "uta.ui_processor.process_ui(ui)"
   ]
  },
  {
   "cell_type": "code",
   "execution_count": 6,
   "id": "aa2badf8",
   "metadata": {},
   "outputs": [
    {
     "name": "stdout",
     "output_type": "stream",
     "text": [
      "* Export task to file data/user_test\\1_elements.json data/user_test\\1_tree.json *\n"
     ]
    }
   ],
   "source": [
    "uta.system_connector.save_ui_data(ui, 'data/user_test')"
   ]
  },
  {
   "cell_type": "code",
   "execution_count": 7,
   "id": "350f5c24",
   "metadata": {},
   "outputs": [
    {
     "name": "stdout",
     "output_type": "stream",
     "text": [
      "* Import user info from file data\\user1\\user.json *\n",
      "* Import task from file data\\user1\\task1\\task.json *\n"
     ]
    }
   ],
   "source": [
    "user, task = uta.instantiate_user_task('user1', 'task1')"
   ]
  },
  {
   "cell_type": "code",
   "execution_count": 8,
   "id": "ae469fca",
   "metadata": {},
   "outputs": [
    {
     "data": {
      "text/plain": [
       "{'task_id': 'task1',\n",
       " 'user_id': 'user1',\n",
       " 'parent_task_id': None,\n",
       " 'task_description': 'Send \"hello\" to my mom',\n",
       " 'task_type': None,\n",
       " 'children_ids': [],\n",
       " 'conversation_clarification': [{'role': 'system',\n",
       "   'content': 'You are a mobile virtual assistant that understands and interacts with the user interface to complete a given task.'},\n",
       "  {'role': 'user',\n",
       "   'content': 'Assess the user task \"Send \"hello\" to my mom\" to determine if it is sufficiently clear for execution on a smartphone. Given that seniors often provide vague or incomplete task descriptions, identify the most crucial piece of missing information. If the task is clear, indicate so. If not, provide a focused question with up to 4 selectable options to clarify the task effectively. The selections should be designed to extract the most essential missing detail for task clarification. Return your analysis in JSON format, comprising: 1. \"Clear\": a boolean indicating if the task is clear enough as is, 2. \"Question\": a single question for further task clarification, 3. \"Options\": a list of up to 4 example options that may answers the question. Example response for a clear task: {\"Clear\": true, \"Question\": \"\", \"Selections\": []} Example response for an unclear task (related to app choice): {\"Clear\": false, \"Question\": \"Which app would you prefer to use for this communication?\", \"Options\": [\"Message\", \"WhatsApp\", \"Meta\", \"Phone Call\"]} Example response for an unclear task (related to message content): {\"Clear\": false, \"Question\": \"What is the content of the message you want to send?\", \"Options\": [\"Greetings\", \"Appointment request\", \"Quick catch-up\", \"Share a photo or video\"]}'},\n",
       "  {'role': 'assistant',\n",
       "   'content': '{\"Clear\": false, \"Question\": \"Which app should I use to send the message?\", \"Options\": [\"SMS\", \"WhatsApp\", \"Email\", \"Facebook Messenger\"]}'},\n",
       "  {'role': 'user', 'content': 'Send \"hello\" to my mom'},\n",
       "  {'role': 'assistant',\n",
       "   'content': '{\"Clear\": false, \"Question\": \"Which app should I use to send the message?\", \"Options\": [\"SMS\", \"WhatsApp\", \"Email\", \"Facebook Messenger\"]}'},\n",
       "  {'role': 'user', 'content': 'Send \"hello\" to my mom'},\n",
       "  {'role': 'assistant',\n",
       "   'content': '{\"Clear\": false, \"Question\": \"Which app should I use to send the message?\", \"Options\": [\"SMS\", \"WhatsApp\", \"Email\", \"Facebook Messenger\"]}'}],\n",
       " 'res_clarification': {'Clear': False,\n",
       "  'Question': 'Which app should I use to send the message?',\n",
       "  'Options': ['SMS', 'WhatsApp', 'Email', 'Facebook Messenger']},\n",
       " 'res_decomposition': {},\n",
       " 'res_classification': {},\n",
       " 'conversation_automation': [{'role': 'system',\n",
       "   'content': 'You are a mobile virtual assistant that understands and interacts with the user interface to complete a given task.'}],\n",
       " 'steps': [],\n",
       " 'task_execution_result': None}"
      ]
     },
     "execution_count": 8,
     "metadata": {},
     "output_type": "execute_result"
    }
   ],
   "source": [
    "task.to_dict()"
   ]
  },
  {
   "cell_type": "code",
   "execution_count": null,
   "id": "11ceda96",
   "metadata": {},
   "outputs": [],
   "source": []
  }
 ],
 "metadata": {
  "kernelspec": {
   "display_name": "Python 3 (ipykernel)",
   "language": "python",
   "name": "python3"
  },
  "language_info": {
   "codemirror_mode": {
    "name": "ipython",
    "version": 3
   },
   "file_extension": ".py",
   "mimetype": "text/x-python",
   "name": "python",
   "nbconvert_exporter": "python",
   "pygments_lexer": "ipython3",
   "version": "3.10.10"
  }
 },
 "nbformat": 4,
 "nbformat_minor": 5
}
