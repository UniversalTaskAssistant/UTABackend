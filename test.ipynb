{
 "cells": [
  {
   "cell_type": "code",
   "execution_count": 1,
   "id": "b07828c5",
   "metadata": {
    "scrolled": true
   },
   "outputs": [
    {
     "name": "stderr",
     "output_type": "stream",
     "text": [
      "C:\\Users\\xie029\\AppData\\Local\\Programs\\Python\\Python310\\lib\\site-packages\\tqdm\\auto.py:22: TqdmWarning: IProgress not found. Please update jupyter and ipywidgets. See https://ipywidgets.readthedocs.io/en/stable/user_install.html\n",
      "  from .autonotebook import tqdm as notebook_tqdm\n"
     ]
    }
   ],
   "source": [
    "from ModelManagement import ModelManager"
   ]
  },
  {
   "cell_type": "code",
   "execution_count": 2,
   "id": "b8ed939a",
   "metadata": {},
   "outputs": [],
   "source": [
    "model_mg = ModelManager()"
   ]
  },
  {
   "cell_type": "code",
   "execution_count": 3,
   "id": "d4993f24",
   "metadata": {},
   "outputs": [
    {
     "name": "stdout",
     "output_type": "stream",
     "text": [
      "Load Classifier Model: 0.200s\n"
     ]
    }
   ],
   "source": [
    "model_mg.initialize_vision_model()"
   ]
  },
  {
   "cell_type": "code",
   "execution_count": null,
   "id": "9420d100",
   "metadata": {},
   "outputs": [],
   "source": []
  },
  {
   "cell_type": "code",
   "execution_count": null,
   "id": "ce2d2a5e",
   "metadata": {},
   "outputs": [],
   "source": []
  },
  {
   "cell_type": "code",
   "execution_count": 4,
   "id": "a9d119cb",
   "metadata": {},
   "outputs": [],
   "source": [
    "from UIProcessing.UIProcessor import UIProcessor"
   ]
  },
  {
   "cell_type": "code",
   "execution_count": 5,
   "id": "f120a542",
   "metadata": {},
   "outputs": [],
   "source": [
    "ui = UIProcessor(model_manager=model_mg)"
   ]
  },
  {
   "cell_type": "code",
   "execution_count": 8,
   "id": "5ff71636",
   "metadata": {},
   "outputs": [],
   "source": [
    "ui_data = ui.load_ui_data(screenshot_file='data/0.png', xml_file='data/0.xml', ui_resize=(1080, 1920))"
   ]
  },
  {
   "cell_type": "code",
   "execution_count": 9,
   "id": "805455a3",
   "metadata": {},
   "outputs": [
    {
     "name": "stdout",
     "output_type": "stream",
     "text": [
      "OCR Time: 0.899s\n",
      "CLs Time: 0.517s\n"
     ]
    }
   ],
   "source": [
    "ui.process_ui()"
   ]
  },
  {
   "cell_type": "code",
   "execution_count": 8,
   "id": "96ea3952",
   "metadata": {},
   "outputs": [
    {
     "data": {
      "text/plain": [
       "[{'description': '3:56',\n",
       "  'boundingPoly': {'vertices': [{'x': 25, 'y': 21},\n",
       "    {'x': 104, 'y': 21},\n",
       "    {'x': 104, 'y': 51},\n",
       "    {'x': 25, 'y': 51}]}},\n",
       " {'description': 'More',\n",
       "  'boundingPoly': {'vertices': [{'x': 50, 'y': 148},\n",
       "    {'x': 160, 'y': 149},\n",
       "    {'x': 160, 'y': 182},\n",
       "    {'x': 50, 'y': 181}]}},\n",
       " {'description': 'POPULAR',\n",
       "  'boundingPoly': {'vertices': [{'x': 99, 'y': 339},\n",
       "    {'x': 289, 'y': 339},\n",
       "    {'x': 289, 'y': 365},\n",
       "    {'x': 99, 'y': 365}]}},\n",
       " {'description': 'LINKS',\n",
       "  'boundingPoly': {'vertices': [{'x': 305, 'y': 339},\n",
       "    {'x': 423, 'y': 339},\n",
       "    {'x': 423, 'y': 365},\n",
       "    {'x': 305, 'y': 365}]}},\n",
       " {'description': 'Calculate',\n",
       "  'boundingPoly': {'vertices': [{'x': 193, 'y': 484},\n",
       "    {'x': 383, 'y': 485},\n",
       "    {'x': 383, 'y': 524},\n",
       "    {'x': 193, 'y': 523}]}},\n",
       " {'description': 'postage',\n",
       "  'boundingPoly': {'vertices': [{'x': 396, 'y': 486},\n",
       "    {'x': 553, 'y': 487},\n",
       "    {'x': 553, 'y': 525},\n",
       "    {'x': 396, 'y': 524}]}},\n",
       " {'description': '&',\n",
       "  'boundingPoly': {'vertices': [{'x': 568, 'y': 487},\n",
       "    {'x': 594, 'y': 487},\n",
       "    {'x': 594, 'y': 525},\n",
       "    {'x': 568, 'y': 525}]}},\n",
       " {'description': 'delivery',\n",
       "  'boundingPoly': {'vertices': [{'x': 604, 'y': 487},\n",
       "    {'x': 768, 'y': 488},\n",
       "    {'x': 768, 'y': 527},\n",
       "    {'x': 604, 'y': 526}]}},\n",
       " {'description': 'times',\n",
       "  'boundingPoly': {'vertices': [{'x': 191, 'y': 543},\n",
       "    {'x': 303, 'y': 543},\n",
       "    {'x': 303, 'y': 575},\n",
       "    {'x': 191, 'y': 575}]}},\n",
       " {'description': 'Track',\n",
       "  'boundingPoly': {'vertices': [{'x': 86, 'y': 1774},\n",
       "    {'x': 182, 'y': 1774},\n",
       "    {'x': 182, 'y': 1799},\n",
       "    {'x': 86, 'y': 1799}]}},\n",
       " {'description': 'Redirect',\n",
       "  'boundingPoly': {'vertices': [{'x': 192, 'y': 717},\n",
       "    {'x': 362, 'y': 717},\n",
       "    {'x': 362, 'y': 747},\n",
       "    {'x': 192, 'y': 747}]}},\n",
       " {'description': 'or',\n",
       "  'boundingPoly': {'vertices': [{'x': 373, 'y': 717},\n",
       "    {'x': 412, 'y': 717},\n",
       "    {'x': 412, 'y': 747},\n",
       "    {'x': 373, 'y': 747}]}},\n",
       " {'description': 'hold',\n",
       "  'boundingPoly': {'vertices': [{'x': 424, 'y': 717},\n",
       "    {'x': 506, 'y': 717},\n",
       "    {'x': 506, 'y': 747},\n",
       "    {'x': 424, 'y': 747}]}},\n",
       " {'description': 'mail',\n",
       "  'boundingPoly': {'vertices': [{'x': 520, 'y': 717},\n",
       "    {'x': 603, 'y': 717},\n",
       "    {'x': 603, 'y': 747},\n",
       "    {'x': 520, 'y': 747}]}},\n",
       " {'description': 'PO',\n",
       "  'boundingPoly': {'vertices': [{'x': 193, 'y': 892},\n",
       "    {'x': 249, 'y': 892},\n",
       "    {'x': 249, 'y': 920},\n",
       "    {'x': 193, 'y': 920}]}},\n",
       " {'description': 'Boxes',\n",
       "  'boundingPoly': {'vertices': [{'x': 263, 'y': 892},\n",
       "    {'x': 382, 'y': 892},\n",
       "    {'x': 382, 'y': 920},\n",
       "    {'x': 263, 'y': 920}]}},\n",
       " {'description': 'Verify',\n",
       "  'boundingPoly': {'vertices': [{'x': 192, 'y': 1061},\n",
       "    {'x': 310, 'y': 1061},\n",
       "    {'x': 310, 'y': 1098},\n",
       "    {'x': 192, 'y': 1098}]}},\n",
       " {'description': 'document',\n",
       "  'boundingPoly': {'vertices': [{'x': 322, 'y': 1061},\n",
       "    {'x': 518, 'y': 1061},\n",
       "    {'x': 518, 'y': 1098},\n",
       "    {'x': 322, 'y': 1098}]}},\n",
       " {'description': '(',\n",
       "  'boundingPoly': {'vertices': [{'x': 532, 'y': 1061},\n",
       "    {'x': 543, 'y': 1061},\n",
       "    {'x': 543, 'y': 1098},\n",
       "    {'x': 532, 'y': 1098}]}},\n",
       " {'description': 'Police',\n",
       "  'boundingPoly': {'vertices': [{'x': 548, 'y': 1061},\n",
       "    {'x': 667, 'y': 1061},\n",
       "    {'x': 667, 'y': 1098},\n",
       "    {'x': 548, 'y': 1098}]}},\n",
       " {'description': 'check',\n",
       "  'boundingPoly': {'vertices': [{'x': 681, 'y': 1061},\n",
       "    {'x': 796, 'y': 1061},\n",
       "    {'x': 796, 'y': 1098},\n",
       "    {'x': 681, 'y': 1098}]}},\n",
       " {'description': ')',\n",
       "  'boundingPoly': {'vertices': [{'x': 797, 'y': 1061},\n",
       "    {'x': 810, 'y': 1061},\n",
       "    {'x': 810, 'y': 1098},\n",
       "    {'x': 797, 'y': 1098}]}},\n",
       " {'description': 'AUSTRALIA',\n",
       "  'boundingPoly': {'vertices': [{'x': 96, 'y': 1268},\n",
       "    {'x': 324, 'y': 1268},\n",
       "    {'x': 324, 'y': 1293},\n",
       "    {'x': 96, 'y': 1293}]}},\n",
       " {'description': 'POST',\n",
       "  'boundingPoly': {'vertices': [{'x': 343, 'y': 1268},\n",
       "    {'x': 446, 'y': 1268},\n",
       "    {'x': 446, 'y': 1293},\n",
       "    {'x': 343, 'y': 1293}]}},\n",
       " {'description': 'WEBSITES',\n",
       "  'boundingPoly': {'vertices': [{'x': 462, 'y': 1268},\n",
       "    {'x': 665, 'y': 1268},\n",
       "    {'x': 665, 'y': 1293},\n",
       "    {'x': 462, 'y': 1293}]}},\n",
       " {'description': '&',\n",
       "  'boundingPoly': {'vertices': [{'x': 682, 'y': 1268},\n",
       "    {'x': 705, 'y': 1268},\n",
       "    {'x': 705, 'y': 1293},\n",
       "    {'x': 682, 'y': 1293}]}},\n",
       " {'description': 'APPS',\n",
       "  'boundingPoly': {'vertices': [{'x': 721, 'y': 1268},\n",
       "    {'x': 824, 'y': 1268},\n",
       "    {'x': 824, 'y': 1293},\n",
       "    {'x': 721, 'y': 1293}]}},\n",
       " {'description': 'Personal',\n",
       "  'boundingPoly': {'vertices': [{'x': 194, 'y': 1418},\n",
       "    {'x': 367, 'y': 1417},\n",
       "    {'x': 367, 'y': 1448},\n",
       "    {'x': 194, 'y': 1449}]}},\n",
       " {'description': 'Rusinose',\n",
       "  'boundingPoly': {'vertices': [{'x': 193, 'y': 1592},\n",
       "    {'x': 366, 'y': 1592},\n",
       "    {'x': 366, 'y': 1608},\n",
       "    {'x': 193, 'y': 1608}]}},\n",
       " {'description': 'Find',\n",
       "  'boundingPoly': {'vertices': [{'x': 343, 'y': 1771},\n",
       "    {'x': 412, 'y': 1774},\n",
       "    {'x': 411, 'y': 1800},\n",
       "    {'x': 342, 'y': 1797}]}},\n",
       " {'description': 'us',\n",
       "  'boundingPoly': {'vertices': [{'x': 429, 'y': 1775},\n",
       "    {'x': 466, 'y': 1777},\n",
       "    {'x': 465, 'y': 1802},\n",
       "    {'x': 428, 'y': 1800}]}},\n",
       " {'description': '8',\n",
       "  'boundingPoly': {'vertices': [{'x': 638, 'y': 1659},\n",
       "    {'x': 711, 'y': 1659},\n",
       "    {'x': 711, 'y': 1723},\n",
       "    {'x': 638, 'y': 1723}]}},\n",
       " {'description': 'Account',\n",
       "  'boundingPoly': {'vertices': [{'x': 602, 'y': 1774},\n",
       "    {'x': 745, 'y': 1774},\n",
       "    {'x': 745, 'y': 1798},\n",
       "    {'x': 602, 'y': 1798}]}},\n",
       " {'description': 'More',\n",
       "  'boundingPoly': {'vertices': [{'x': 900, 'y': 1774},\n",
       "    {'x': 987, 'y': 1774},\n",
       "    {'x': 987, 'y': 1798},\n",
       "    {'x': 900, 'y': 1798}]}}]"
      ]
     },
     "execution_count": 8,
     "metadata": {},
     "output_type": "execute_result"
    }
   ],
   "source": [
    "ui_data.ocr_text"
   ]
  },
  {
   "cell_type": "code",
   "execution_count": null,
   "id": "03d99adb",
   "metadata": {},
   "outputs": [],
   "source": []
  }
 ],
 "metadata": {
  "kernelspec": {
   "display_name": "Python 3 (ipykernel)",
   "language": "python",
   "name": "python3"
  },
  "language_info": {
   "codemirror_mode": {
    "name": "ipython",
    "version": 3
   },
   "file_extension": ".py",
   "mimetype": "text/x-python",
   "name": "python",
   "nbconvert_exporter": "python",
   "pygments_lexer": "ipython3",
   "version": "3.10.10"
  }
 },
 "nbformat": 4,
 "nbformat_minor": 5
}
