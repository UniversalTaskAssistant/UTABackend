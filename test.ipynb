{
 "cells": [
  {
   "cell_type": "markdown",
   "id": "8d909a1a",
   "metadata": {},
   "source": [
    "## Section 1 - UI Acquiring and Processing"
   ]
  },
  {
   "cell_type": "code",
   "execution_count": 1,
   "id": "d37f14a4",
   "metadata": {},
   "outputs": [],
   "source": [
    "from SystemConnection import _Device\n",
    "device = _Device()\n",
    "device.connect()\n",
    "screen_path, xml_path = device.cap_and_save_ui_screenshot_and_xml(1, 'data/device')"
   ]
  },
  {
   "cell_type": "code",
   "execution_count": 5,
   "id": "b07828c5",
   "metadata": {
    "scrolled": true
   },
   "outputs": [
    {
     "name": "stderr",
     "output_type": "stream",
     "text": [
      "C:\\Users\\xie029\\AppData\\Local\\Programs\\Python\\Python310\\lib\\site-packages\\tqdm\\auto.py:22: TqdmWarning: IProgress not found. Please update jupyter and ipywidgets. See https://ipywidgets.readthedocs.io/en/stable/user_install.html\n",
      "  from .autonotebook import tqdm as notebook_tqdm\n"
     ]
    }
   ],
   "source": [
    "from ModelManagement import ModelManager\n",
    "model_mg = ModelManager()\n",
    "model_mg.initialize_vision_model()"
   ]
  },
  {
   "cell_type": "code",
   "execution_count": 7,
   "id": "a9d119cb",
   "metadata": {},
   "outputs": [],
   "source": [
    "from UIProcessing.UIProcessor import UIProcessor\n",
    "ui = UIProcessor(model_manager=model_mg)"
   ]
  },
  {
   "cell_type": "code",
   "execution_count": 9,
   "id": "f120a542",
   "metadata": {},
   "outputs": [
    {
     "name": "stdout",
     "output_type": "stream",
     "text": [
      "OCR Time: 2.033s\n",
      "CLs Time: 6.060s\n"
     ]
    }
   ],
   "source": [
    "ui_data = ui.load_ui_data(screenshot_file=screen_path, xml_file=xml_path, ui_resize=device.get_device_resolution())\n",
    "ui.process_ui()\n",
    "ui_data.show_all_elements()"
   ]
  },
  {
   "cell_type": "markdown",
   "id": "d51a1cfe",
   "metadata": {},
   "source": [
    "## Section 2 - Task Declaration"
   ]
  },
  {
   "cell_type": "code",
   "execution_count": 1,
   "id": "2efd7485",
   "metadata": {},
   "outputs": [
    {
     "name": "stderr",
     "output_type": "stream",
     "text": [
      "C:\\Users\\xie029\\AppData\\Local\\Programs\\Python\\Python310\\lib\\site-packages\\tqdm\\auto.py:22: TqdmWarning: IProgress not found. Please update jupyter and ipywidgets. See https://ipywidgets.readthedocs.io/en/stable/user_install.html\n",
      "  from .autonotebook import tqdm as notebook_tqdm\n"
     ]
    },
    {
     "name": "stdout",
     "output_type": "stream",
     "text": [
      "{'Clear': 'False', 'Question': 'What is the content of the message you want to send to your mom?'}\n",
      "{'Decompose': True, 'Sub-tasks': ['Open WeChat', 'Send a message to my mom on WeChat'], 'Explanation': 'The given task contains two independent subtasks that should be completed sequentially.'}\n",
      "{'Task Type': '3. App Related Task', 'Explanation': \"The task requires the use of a specific app, WeChat, to send a message to the user's mom.\"}\n"
     ]
    }
   ],
   "source": [
    "from ModelManagement import ModelManager\n",
    "model_mg = ModelManager()\n",
    "model_mg.initialize_llm_model(identifier='task_decomposer')"
   ]
  },
  {
   "cell_type": "code",
   "execution_count": null,
   "id": "a8c3b4ca",
   "metadata": {},
   "outputs": [],
   "source": [
    "from TaskDeclearation.TaskDeclaration import TaskDeclarator\n",
    "task_declarator = TaskDeclarator(model_manager=model_mg)"
   ]
  },
  {
   "cell_type": "code",
   "execution_count": null,
   "id": "b39cd01d",
   "metadata": {},
   "outputs": [],
   "source": [
    "task = 'Open wechat and send my mom a message'"
   ]
  },
  {
   "cell_type": "code",
   "execution_count": null,
   "id": "52af6fff",
   "metadata": {},
   "outputs": [],
   "source": [
    "task_declarator.initialize_task_clarifier('task_clarifier1')\n",
    "task_declarator.clarify_task(clarifier_identifier='task_clarifier1', org_task=task)\n",
    "task_declarator.initialize_task_decomposer('task_dec1')\n",
    "task_declarator.decompose_task(decomposer_identifier='task_dec1', task=task)\n",
    "task_declarator.initialize_task_classifier('task_cls1')\n",
    "task_declarator.classify_task(classifier_identifier='task_cls1', task=task)"
   ]
  },
  {
   "cell_type": "markdown",
   "id": "84a382c8",
   "metadata": {},
   "source": [
    "## Section 3 - Third Party App"
   ]
  },
  {
   "cell_type": "code",
   "execution_count": 1,
   "id": "7aa55c6a",
   "metadata": {},
   "outputs": [
    {
     "name": "stderr",
     "output_type": "stream",
     "text": [
      "C:\\Users\\xie029\\AppData\\Local\\Programs\\Python\\Python310\\lib\\site-packages\\tqdm\\auto.py:22: TqdmWarning: IProgress not found. Please update jupyter and ipywidgets. See https://ipywidgets.readthedocs.io/en/stable/user_install.html\n",
      "  from .autonotebook import tqdm as notebook_tqdm\n"
     ]
    }
   ],
   "source": [
    "from ModelManagement import ModelManager\n",
    "model_mg = ModelManager()\n",
    "model_mg.initialize_llm_model('app_manager')"
   ]
  },
  {
   "cell_type": "code",
   "execution_count": 2,
   "id": "151894b8",
   "metadata": {},
   "outputs": [],
   "source": [
    "from ThirdPartyAppManagement import ThirdPartyAppManager\n",
    "app_mg = ThirdPartyAppManager(model_manager=model_mg)"
   ]
  },
  {
   "cell_type": "code",
   "execution_count": 4,
   "id": "60147d03",
   "metadata": {},
   "outputs": [
    {
     "name": "stdout",
     "output_type": "stream",
     "text": [
      "Running Time:7.206s,  Fetched APP: {App id: com.tencent.mm } {App title: WeChat }\n"
     ]
    },
    {
     "data": {
      "text/plain": [
       "{'title': 'WeChat',\n",
       " 'description': \"WeChat is more than a messaging and social media app – it is a lifestyle for over one billion users across the world. Chat and make calls with friends, share your life's favorite Moments, enjoy mobile payment features, and much more.\\r\\n\\r\\nWhy do over one billion people use WeChat?\\r\\n- MORE WAYS TO CHAT: Message friends using text, photo, voice, video, location sharing, and more. Create group chats with up to 500 members.\\r\\n- VOICE & VIDEO CALLS: High-quality voice and video calls to anywhere in the world. Make group video calls with up to 9 people.\\r\\n- MOMENTS: Share your favorite moments. Post photos, videos, and more to your Moments stream.\\r\\n- STATUS: post your status to capture your mood and share an ephemeral experience with friends\\r\\n- STICKER GALLERY: Browse thousands of fun, animated stickers to help express yourself in chats, including stickers with your favorite cartoon and movie characters.\\r\\n- CUSTOM STICKERS: Make chatting more unique with custom stickers and Selfie Stickers feature.\\r\\n- REAL-TIME LOCATION: Not good at explaining directions? Share your real-time location with the press of a button.\\r\\n-PAY: Enjoy the convenience of world-leading mobile payment features with Pay and Wallet (*only available in certain regions).\\r\\n- WECHAT OUT: Make calls to mobile phones and landlines around the globe at super low rates (*only available in certain regions).\\r\\n- LANGUAGE SUPPORT: Localized in 18 different languages and can translate friends’ messages and Moments posts.\\r\\n- BETTER PRIVACY: Giving you the highest level of control over your privacy, WeChat is certified by TRUSTe.\\r\\n- EXPAND YOUR WORLD WITH WEIXIN SERVICES: Activate Channels, Official Accounts, Mini Programs, and other features offered via WeChat's sister service, Weixin.\\r\\n- AND MUCH MORE...\",\n",
       " 'descriptionHTML': 'WeChat is more than a messaging and social media app – it is a lifestyle for over one billion users across the world. Chat and make calls with friends, share your life&#39;s favorite Moments, enjoy mobile payment features, and much more.<br><br>Why do over one billion people use WeChat?<br>- MORE WAYS TO CHAT: Message friends using text, photo, voice, video, location sharing, and more. Create group chats with up to 500 members.<br>- VOICE &amp; VIDEO CALLS: High-quality voice and video calls to anywhere in the world. Make group video calls with up to 9 people.<br>- MOMENTS: Share your favorite moments. Post photos, videos, and more to your Moments stream.<br>- STATUS: post your status to capture your mood and share an ephemeral experience with friends<br>- STICKER GALLERY: Browse thousands of fun, animated stickers to help express yourself in chats, including stickers with your favorite cartoon and movie characters.<br>- CUSTOM STICKERS: Make chatting more unique with custom stickers and Selfie Stickers feature.<br>- REAL-TIME LOCATION: Not good at explaining directions? Share your real-time location with the press of a button.<br>-PAY: Enjoy the convenience of world-leading mobile payment features with Pay and Wallet (*only available in certain regions).<br>- WECHAT OUT: Make calls to mobile phones and landlines around the globe at super low rates (*only available in certain regions).<br>- LANGUAGE SUPPORT: Localized in 18 different languages and can translate friends’ messages and Moments posts.<br>- BETTER PRIVACY: Giving you the highest level of control over your privacy, WeChat is certified by TRUSTe.<br>- EXPAND YOUR WORLD WITH WEIXIN SERVICES: Activate Channels, Official Accounts, Mini Programs, and other features offered via WeChat&#39;s sister service, Weixin.<br>- AND MUCH MORE...',\n",
       " 'summary': 'Connecting over a billion people with calls, chats, and more',\n",
       " 'installs': '100,000,000+',\n",
       " 'minInstalls': 100000000,\n",
       " 'realInstalls': 393380346,\n",
       " 'score': 3.4214365,\n",
       " 'ratings': 6198139,\n",
       " 'reviews': 212508,\n",
       " 'histogram': [1972904, 230960, 354767, 490098, 3149395],\n",
       " 'price': 0,\n",
       " 'free': True,\n",
       " 'currency': 'USD',\n",
       " 'sale': False,\n",
       " 'saleTime': None,\n",
       " 'originalPrice': None,\n",
       " 'saleText': None,\n",
       " 'offersIAP': True,\n",
       " 'inAppProductPrice': '$0.99 - $14.99 per item',\n",
       " 'developer': 'WeChat International Pte. Ltd.',\n",
       " 'developerId': 'WeChat+International+Pte.+Ltd.',\n",
       " 'developerEmail': 'support@help.wechat.com',\n",
       " 'developerWebsite': 'http://www.wechat.com',\n",
       " 'developerAddress': '10 Anson Rd, #21-07, International Plaza, Singapore 079903',\n",
       " 'privacyPolicy': 'https://www.wechat.com/mobile/htdocs/en/privacy_policy.html',\n",
       " 'genre': 'Communication',\n",
       " 'genreId': 'COMMUNICATION',\n",
       " 'categories': [{'name': 'Communication', 'id': 'COMMUNICATION'}],\n",
       " 'icon': 'https://play-lh.googleusercontent.com/eOXYfM4C_CJc6hJ9Yxa0q0Xf-O8u03T5af6NdC5vnuYKLnrgsIjEaM4lUK3Mj7gNn7Y',\n",
       " 'headerImage': 'https://play-lh.googleusercontent.com/WaMFsN5Hlwc24HHFMMNuUE_whpxHxnPPN-qrt2v_IVM5ybAdCTdgdKRqUyZ0KuQX0g',\n",
       " 'screenshots': ['https://play-lh.googleusercontent.com/qmNC0OrlwSsCb9Ddjam13npy6NTaWXHQLNaVveI_mYVK-DNfmKcvJO5-pLZ_q40Npgs',\n",
       "  'https://play-lh.googleusercontent.com/xVwMWpVkqhFNf2Zh64bDfrUB-1201Yd9-mDcgxu0OqdxtljO_eLuObrGj11WI0WpxD6R',\n",
       "  'https://play-lh.googleusercontent.com/LQqc4cywXckIH3sVfjr6L_4xSW9lym-_9Kr-6fJX1I7YBnPXZdAIleBkhZ1g-epMKIau',\n",
       "  'https://play-lh.googleusercontent.com/TT3KNoSJobEjqDqoX1GVGSlz5kql8qy7Tdr7o5K3ppNPaKe5C1U_wFz8LsJAJrkbRru2',\n",
       "  'https://play-lh.googleusercontent.com/lZvsb23FnU_T6Y_cWnEY2nA4eDvzuqz8nBft20bVmeoMQ3IhpuhGzejv19GEinGWMQ',\n",
       "  'https://play-lh.googleusercontent.com/W7l0RuyRVTla-p9C_N27Ohfzzgxd0HHVVsok_hCHZJYuASu6fWY1r58LrLQQXRTDAg',\n",
       "  'https://play-lh.googleusercontent.com/3GnondN21Ib78G9ys4Fu8V9wF2D2u6UcUFcHEXqEKS10TduBTGYh3nAs0AMq21HcLSw',\n",
       "  'https://play-lh.googleusercontent.com/cqnkuPD7ydpIx6hLbDkHwHqr1z_zx1LJ1QXny8h_V1FLssgQMLrQRQ6HtTlX2aVsL2v7',\n",
       "  'https://play-lh.googleusercontent.com/Z37jgZMxreLbnGylQfCMck8QTljbWc--zQheGrZ-ybrBrDN9oa_p9laCgO1nr9G4Ug',\n",
       "  'https://play-lh.googleusercontent.com/xVnSr7_YTwtis_e5ZM-abEztocjVwsvcweH8ybbMmPy2xV5ZYhbcEfe5yJD7GWKxi1k',\n",
       "  'https://play-lh.googleusercontent.com/SYbuSUEr4TATgp9eFz8qPaNC7o8POTXbBOCQ78gHz8jjy5ovGbibGh_osLWSjV4dpfc'],\n",
       " 'video': None,\n",
       " 'videoImage': None,\n",
       " 'contentRating': 'Everyone',\n",
       " 'contentRatingDescription': None,\n",
       " 'adSupported': False,\n",
       " 'containsAds': False,\n",
       " 'released': 'Jan 30, 2011',\n",
       " 'updated': 1693193463,\n",
       " 'version': '8.0.37',\n",
       " 'comments': [\"Stupid 'security verification', it requires an existing WeChat user to scan your code. I don't have any Chinese friends near me, so I can't set up an account. I wanted WeChat for local Chinese-owned businesses like restaurants... Even up until that point, it was slow and kept crashing at the first screen. Can't even open the app, it freezes up completely. Terrible app\",\n",
       "  'This upgrade caused my Channel \"Hot\" button disappeared, and repeatedly erased all viewing history from ALL other remaining buttons. All my saved, reacted, and communication history are disappearing slowly after the upgrade and, by now, all gone. Very poor quality production released! Signed by a long time software development professional.',\n",
       "  'When I try to sign up via mobile, I receive the SMS and enter the verification code, but it responds with an error message that \"virtual operators\" cannot be used to sign up for WeChat. I think it\\'s pretty ridiculous that a phone number is even needed to register for an Internet messaging app, but even worse, some phone numbers aren\\'t considered \"good enough\" for them? I think I\\'ll just choose to use a different messaging app with my friends!',\n",
       "  'WeChat is great for texting and has an incredible range of cute, free stickers. However, after less than a week, I\\'ve been locked out of my account twice for \"suspicious activity\" and need a friend to help me log back in through some convoluted process. Their help center says if you use Project Fi, then they recommend using a different phone number to connect... Unfortunately, this is also the only phone number I have. I like the app, but the login process really ruins the experience.',\n",
       "  'Can\\'t activate my account because it has been \"blocked due to security issues.\" Tried doing the 2 factor verification process, which failed, and then I tried to get a friend to verify. We followed all directions to a tee, and I still couldn\\'t get unblocked. Oh, but I was able to set a password and give them access to my whole contacts list. You\\'re welcome Chinese hackers. |-(',\n",
       "  \"This app is great and has a lot of functionality. But some of it is not implemented very well on android. For example, posting a picture on the time capsule using an android phone means the picture will immediately be converted to a video in which all that is happening is just zooming further and further into the picture. Making it quite unpleasant. Please fix this. I don't want my pictures to zoom and zoom\",\n",
       "  \"The app is usually pretty handy. Other than the occasional wrong translation it works well enough. However, lately my app won't notify me of any new messages. I have checked all the my settings on my phone and everything is set up correctly. It is extremely frustrating to that I have messages and dont see them for hours, until I remember to open up the app and check.\",\n",
       "  \"Wechat uses a lot of space. When you reinstall the app most conversations are deleted unless you have saved them. When you send pictures and videos if the original is deleted then you can't see the picture or video anymore. Whenever there is not enough storage it sends a ton of pop-ups which are very annoying. It seems like an okay app but I would rather use other messaging apps.\",\n",
       "  \"Phantom notifications on Google pixel. I cannot express the rage I feel since this is my only method of communicating with my brother. I don't know what's causing it, but as soon as I uninstall this app, it stops. I have tried everything I can with the settings. It's absolutely infuriating. It starts randomly and sometimes will be so bad that it's every 10 seconds. I restart and it stops for a bit but always ends up starting again eventually. I regularly uninstall for periods of time.\",\n",
       "  \"Really bad app, lame programming, bad logic, constant hangs, constant security issues, constant hassles, locks account if you don't use it often, says it detected unusual activity on your account and asks for friend's information to unblock your account, but you can't contact your friends because you can't log in, so you have to call them or use another app. Why bother with this app if you have to have another one anyway? I switched to LINE, it works great.\",\n",
       "  \"This app is great and has a lot of functionality. But some of it is not implemented very well on android. For example, posting a picture on the time capsule using an android phone means the picture will immediately be converted to a video in which all that is happening is just zooming further and further into the picture. Making it quite unpleasant. Please fix this. I don't want my pictures to zoom and zoom\",\n",
       "  \"Worse experience I have ever had with ANY app and that's saying a lot. It's a nightmare with its byzantine security procedures that make it easy to get locked out and ending with a frozen account that is impossible to retrieve or reset regardless of all the asinine hoops they make you jump through. If your desire is to be stuck in an endless do loop of stupidity that wastes the most precious commodity - your time; then WeChat is for you otherwise don't go near it its pure crapware.\",\n",
       "  \"The latest update broke it. When I open the app, it works for a session. When I exit and reopen, the app opens and closes over and over like it's blinking. The only way to get it to work is to open the system settings for the app and to Force Stop it, and reopen. Then after the session, it goes back to the blinking. I have reinstalled, cleared the WeChat cache, and my phone's cache with no luck.\",\n",
       "  'The app won\\'t let me register. I put my info in, agree to the ToS, and it turns black for about 60 seconds, then white until I get a \"not responding\" message. I\\'ve contacted support a few times, but no response. And it\\'s been 2 weeks since the first email. People I know are fleeing Facebook for WeChat and I want to follow. But I can\\'t. I have a Samsung note 8.',\n",
       "  'First had issues verifying my phone and account. It was blocked. Never used the service before. Finally get in and tried to update my region (Florida). From there, no locations match where I am and no way to add my own \"region\" - the 3 listed under Florida are in another language anyway. Stupid. No way to contact support either. Uninstalling this garbage. Waste of time but I bet they got information from me and my contacts (permission required upon installation).',\n",
       "  \"It's a chat app like many others.. unfortunately if some friends choose to use it and I want to keep in touch with them, I also MUST use it. No problem until it comes time to change phones. I've never ever EVER had a smooth process with porting weChat to a new phone. If you might ever change phones and you wish to retain any chats or content this app will make it a giant pain in the butt to migrate. There's nothing easy or intuitive about moving to a new device. Just delete everything.\",\n",
       "  'Unfortunately it the best way to communicate with people in China. Works fine most of the time. Has many good functions, similar to Facebook but less shareable. The worst problem is that often it tries to interrupt and override other apps while they\\'re in use to the point where I\\'ve had to uninstall it several times due to it\\'s annoying pinging. But if you set \"do not disturb\" and notification restrictions high it becomes tolerable and has good video calling capabilities.',\n",
       "  \"If I try and register with my phone I instantly get flagged for a suspicious account. When I try to verify my account through their procedures all that happens is the verification window expires even though friends have done the steps they ask. It's been anything but a pain for me to deal with this app, hope others don't have the same experience.\",\n",
       "  \"Can't even sign up I have tried to create an account to communicate to a friend in China (I am in US). After 3 hours constant trying, phone calls and emails with the friend in China, I still can't sign up an account. I guess this app is designed specifically for mainland Chinese users and not for global applications. I gave up!!! Try LINE! It might be better.\",\n",
       "  \"I'm trying to add a friend from China with no success so far. I've tried adding by typing in the ID, but the system says the user can't be found. So I tried adding by qr code. You'd think that would work but no, it says it's invalid, despite the fact that my friend had JUST sent it to me before I received the invalid message. If I manage to add my friend from China without issues, I'll change my rating.\",\n",
       "  \"Obtuse design insists on forcing notifications even if you turn them off. It really fights you. And then if you want to delete your account, instead of anything simple, you have to contact support, and even then they'll just tell you to try through the app. If only it were that easy, cause you either need to confirm via QQ or China Bank, especially if you have funds in your wallet cause your family and their friends spammed you with their inane red envelope system and it's just not user friendly\",\n",
       "  'The reactivation process for \"unusual account activity\" is frustratingly impractical and difficult. I am trying to use this app solely to communicate with a tour operator, who is my only contact, and now I have to send them a real international SMS to verify. Trying to send the first SMS to the verification number was stupid because it displays wrong, someone didn\\'t use an escape character, and every time you tab away to send the required or check a contact, the whole process resets. Terrible.',\n",
       "  \"Have to use but can't control. Chinese is my native language and I have many China ties. So this is an app I have to use to connect friends and families. But it has so many settings that users can't control. Many security settings are mysterious and the wechat operator randomly shuffle the sequence of my subscribed contents. Recently, many posts open extremely slow and I can't figure out why. Other web browsing and aaps work fine so I know it's this app. It takes lots of memory too.\",\n",
       "  \"Can't sign up with email or VOIP #, which are the only two things I have. Many other chat apps allow other options so this app is useless and a waste of time. Even more so as it had to download and install something else first, then takes you all the way through the registration wasting your time just to fail with an error it can't work after sending you a code making you think it will. garbage\",\n",
       "  'Recently switched to a new phone and discovered that I have to backup/restore all of my messages manually, unlike every other app. Occasionally shows annoying \"Server access failure\" toast messages when you aren\\'t using it. No web version. Can\\'t sign up without having someone else scan some code. Requires storage access permission to start. Gigantic and bloated with useless features.',\n",
       "  \"I wish i could give this app zero stars. I had to create a 2nd account from my 2nd phone just to end up with that one blocked as well. I only added the app because someone recommended it for my travels in a few months; however, it was pointless to even download at this point. Especially when they don't have a way to really unblock your account on your own if your new to it. Garbage.\",\n",
       "  'No cloud backup function available. If you accidentally uninstalled the app, everything will be wiped out including your chat history. The \"migration\" function is there only if you have another device on the same WiFi network to move the record which is stupid and not user friendly at all. Who doesn\\'t have cloud backup nowadays? So outdated. And STOP randomly changing my phone settings including language/font size without my permission!!!',\n",
       "  \"Developers Unresponsive. Didn't use account for a while, forgot password. Account is placed on hold - need a friend to unlock, but feature doesn't work. so, I created a new account. WeChat block the new account as suspicious because it still sees the old account (instead of deleting the old one.) Developers ignore emails. Like everything else made in china: cheap and breaks easily.\",\n",
       "  \"Unusable for me. I cannot sign up because it says Suspicious Registration, I've tried switching phones and contacting the help center. There's no support, they will email you back with a link to their website describing how to sign up when they need to actually help or fix anything. App is garbage and a waste of time. Shame, because I would have liked to keep in contact with my Chinese friends easier.\",\n",
       "  \"The app takes up a ridiculous amount of space. Even with all the cached cleared and images in the app cleared, it takes up nearly 1GB with just the 'App' and the 'Data'. Comparatively, other messenger apps like Facebook's Messenger app only takes like 300-ish MB. It stores copies of all the pictures, voice messages etc deep in your phone as well on top of everything. It's ridiculous how much this app takes over your phone's storage.\",\n",
       "  \"Went in circles trying to transfer history to a new device. Everything else transfered easily (SMS, FB Messenger, WhatsApp, Line) all with ease. This piece of useless fodder takes you in circles. First it tells you to backup via QR code. You scan on the new device and the web address it loads goes no where. Then it recommends doing it via desktop. Again link to no where. If this wasn't my father's preferred way of transferring photos to each other, I wouldn't even have it.\",\n",
       "  \"So frustrating. It was glitching while I was trying to create my account, but I finally got through all the screens after 5 tries. The app let me use it for 2 days before suddenly locking me out because of all the registration attempts!?! The process to unlock the account is absurd. You have to get someone who has used the app for 6 months to 'validate' you. I only had one friend on there and she was 'not qualified.' Absolutely ridiculous. My sister is in China and now she can't check in.\",\n",
       "  'One of the worst messenger apps. Extremely inefficient with management of resources. App setting defaults to automatic download of photos, videos, etc. Even when disabled, there is background download of other files. After clearing all chat history and cache in settings, was still left with over 2GB storage used. Just did a fresh install and already 1.5GB used. Tried to submit feedback in app, unsuccessful. If you have friends that use this, I suppose you are stuck... Or just get new friends.',\n",
       "  'Absolutely horrible app. I downloaded it a while ago and it was working fine until I suddenly got blocked for some having some kind of \"plug-in\" which is completely ridiculous because I haven\\'t downloaded anything. I\\'ve asked multiple friends to try to help verify my account but nothing has worked. Now i can\\'t communicate with Chinese colleagues. Don\\'t use this app.',\n",
       "  \"Because I didn't use this app for 6 months, they shut my app acres. Now I'm trying many times to get back in. Trying to use the option where they send you a code and then when you everyday it the app says it wrong - tries that about ten times. Tried to have a friend follow the app instructions to help verify me and the friend can't see the message that WeChat says is there. Tried to change my password using the email option and they never sent me the email - tried that three times. BAD APP!\",\n",
       "  'Need a different option to activate account! I have a \"suspicious registration\" that I\\'ve been unable to fix because I have to get a friend on WeChat to basically vouch for me. That could work if I knew anyone on there. Kind of hard to even meet anyone on the when you can\\'t even get in for the first time. Useless app. No point in trying again since I\\'ve tried for like 3 months. You guys need more options than \"phone a friend\".',\n",
       "  \"Don't even think about installing this, this app doesn't worth your time. It constantly sends unsolicited user data in the background. I've found out some sensitive user data were sent secretly without obvious breach of ToS. In addition, if I get all of the permissions disabled. It will constantly throw error toasts even when I'm not using the app. Once a while it will open on its own without my consent.\",\n",
       "  \"The app is really spammy & has gone downhill. When I recovered my acct I lost all my messages. I'm close to uninstalling it. I get this obnoxious pop up that randomly comes on my screen multiple times a day to set up my bank account to use their quick pay option. I only have notifications turned on if I receive messages. I don't even run the app in my background, yet the moment I turn on my phone or use another app I randomly get the pop ups. It's their way to coerce me to sign up. Complete BS.\",\n",
       "  \"I love WeChat and use it all the time, both on my Android and my desktop. I have no problems using the desktop app, however I rarely receive notifications on my phone. I have missed several important messages because I didn't know I had received them. According to the settings I should be receiving all notifications, but nothing. Again, this is only for Android.\",\n",
       "  \"The video chat apparently keeps freezing on the other end of the chat, so I can see both myself and other user still moving, but I'm frozen on their screen. No matter what phone they use, iPhone or Android. Although, this is a new phone, pixel 4. The video chat features were not an issue on the pixel 2. I may include another star if this issue gets fixed\"],\n",
       " 'appId': 'com.tencent.mm',\n",
       " 'url': 'https://play.google.com/store/apps/details?id=com.tencent.mm&hl=en&gl=us'}"
      ]
     },
     "execution_count": 4,
     "metadata": {},
     "output_type": "execute_result"
    }
   ],
   "source": [
    "app_mg.search_app_by_name('wechat')"
   ]
  },
  {
   "cell_type": "code",
   "execution_count": 3,
   "id": "c292f7e8",
   "metadata": {},
   "outputs": [
    {
     "name": "stdout",
     "output_type": "stream",
     "text": [
      "Number of related apps: 30\n",
      "com.pandaexpress.app Panda Express\n",
      "com.beyondmenu Beyond Menu - Food Delivery\n",
      "com.chowbus.chowbus Chowbus: Asian Food Delivery\n",
      "com.sinyee.babybus.food Little Panda's Chinese Recipes\n",
      "com.riatech.chineseRecipesNew Chinese Recipes\n",
      "com.juniorgames.girls.cooking.chinese.food Chinese Food - Cooking Game\n",
      "com.familykidsgames.chinesefoodrestaurant Chinese Food Restaurant\n",
      "com.kundev.chinesefoodrecipes authentic chinese recipes food\n",
      "com.kidsfoodinc.chinese_food_puppy Chinese Food! Make Yummy Chine\n",
      "com.roetteri.recipes.chinese Chinese Recipes Cookbook\n",
      "com.eduven.cc.chinese Chinese Food Recipes Offline\n",
      "com.dd.doordash DoorDash - Food Delivery\n",
      "com.minigamersclub.chinese.food.chef Chinese Food: Asian Kitchen\n",
      "com.SherLuck.chineserecipesnew 100 Chinese Food Recipes\n",
      "com.yamibuy.yamiapp Yamibuy: Asian Grocery & Goods\n",
      "br.com.tapps.chinesecaliforniatruck Chinese California Food Truck\n",
      "com.kidsgamesfactory.chinese.food.kitchen Chinese Food Kitchen Cooking\n",
      "com.ubercab.eats Uber Eats: Food Delivery\n",
      "com.roblox.client Roblox\n",
      "tasty.asian.recipes Asian Recipes- Chinese food\n",
      "com.google.android.apps.translate Google Translate\n",
      "com.zzkko SHEIN-Shopping Online\n",
      "com.lemon.lvoverseas CapCut - Video Editor\n",
      "com.supercell.hayday Hay Day\n",
      "com.CookingGame.ChineseStreetFoodMaker Chinese Food - Cooking Game\n",
      "com.hungrypanda.waimai HungryPanda: Food Delivery\n",
      "com.tocaboca.tocalifeworld Toca Life World: Build a Story\n",
      "com.amazon.mShop.android.shopping Amazon Shopping\n",
      "com.ea.gp.fifamobile EA SPORTS FC™ Mobile Soccer\n",
      "com.alibaba.aliexpresshd AliExpress\n"
     ]
    }
   ],
   "source": [
    "apps = app_mg.search_apps_fuzzy('chinese food')"
   ]
  },
  {
   "cell_type": "code",
   "execution_count": 4,
   "id": "e14cf099",
   "metadata": {},
   "outputs": [
    {
     "data": {
      "text/plain": [
       "['- Join the Panda Rewards program: By signing up for Panda Rewards in the app, you can start earning Panda Points every time you make a purchase. This can be done either by ordering directly in the app or by scanning a QR code when you visit a Panda Express store or drive-thru',\n",
       " \"- Redeem your Panda Points: Once you've earned enough Panda Points, you can use them to unlock rewards and get discounts on your favorite Panda Express meals\",\n",
       " '- Order food for dine-in, take-out, or delivery: You can use the app to place an order for any meal, whether you want to eat in the restaurant, take it to go, or have it delivered to your home. You can also schedule your order for a later time if you prefer',\n",
       " '- Save and reorder your favorite meals: If you have a favorite meal that you order often, you can save it in the app. The next time you want to order it, you can do so with just one tap',\n",
       " \"- Arrange catering for parties: If you're hosting a party, you can use the app to arrange catering from Panda Express. Simply choose the sides and entrees you want, and they'll take care of the rest.\"]"
      ]
     },
     "execution_count": 4,
     "metadata": {},
     "output_type": "execute_result"
    }
   ],
   "source": [
    "app_mg.conclude_app_functionality(apps[0])"
   ]
  },
  {
   "cell_type": "code",
   "execution_count": 7,
   "id": "a85ff3e2",
   "metadata": {},
   "outputs": [
    {
     "data": {
      "text/plain": [
       "{'appId': 'com.pandaexpress.app',\n",
       " 'icon': 'https://play-lh.googleusercontent.com/yfXETQ7tmoxN9vzZegwQMosHZuRvVYRSuhFV4aV23j6vwg_9s8BPfNFqfuQpfrvB4Uk',\n",
       " 'screenshots': ['https://play-lh.googleusercontent.com/qOro6T-7xxdRb17jTe-n7RjNocfa97P4u8W5I3eWGRRUo30ljOIDbRSBtker60jyd-4',\n",
       "  'https://play-lh.googleusercontent.com/_krMi4bSfAxYhFer5nTpZ9UGVTPTpnyhxZ6TeVVg5nMMbu83tivw-4VaCExKUPX2UZQ',\n",
       "  'https://play-lh.googleusercontent.com/bLHgIFq0uumkjF1sJCwk8A7PDBBwx_nb5FOvqipm3AN69nXv5qeSuVFr-KA80Cjaiw',\n",
       "  'https://play-lh.googleusercontent.com/gxl8vcbv6NkjPtFgasg3xN2PUT_tqn1eyks4GgKnReXnkIHRl9g7Y1BAGboiDFhrj4E',\n",
       "  'https://play-lh.googleusercontent.com/BNO4H45Wx7wyryGITunqHIbHY8TkvQmr3vV6JYXId8iACERfePYY6SEfXr5Hn0hdDyc',\n",
       "  'https://play-lh.googleusercontent.com/VDiuhvgBV6e2hulGPfyHB2Dos3-2MjdRju1HUtAnk_DPlgAwfgRv1RgnLN_mrwuT-3k0',\n",
       "  'https://play-lh.googleusercontent.com/w-HQ4wD-oKHIOZ0xK4B0rdPMcOyARXlBVrgOgCSf6bQ93E-gR6X-SWruC2K0RmT7LQ',\n",
       "  'https://play-lh.googleusercontent.com/mpMzXhamucUic9r2Dxz1uGHRX9zGEXX5cmsHROlwHcrtF2_S295bUxaijKuRIbb2qw',\n",
       "  'https://play-lh.googleusercontent.com/8hSYaD9rTT0qrRiw3BW9yUQA8GIfV--rApk8RqQQ4seKtitOSLBFfYgHSlVYllWXUQ',\n",
       "  'https://play-lh.googleusercontent.com/GsHTKwUbUX-fUwcB0RoXUPhd3FGrMXQT2g6h_B5oRyqI-m8BRSAosR5dG2YV2wOo9Ng',\n",
       "  'https://play-lh.googleusercontent.com/TP0nJc9Urget1j6vH_r6aGZk8RCs4GP5QbMQ0xfIz2oNVVxNR1ly_138YkSooB4N0Qru',\n",
       "  'https://play-lh.googleusercontent.com/Dt5ZMypMHLrjDCEFjZz3JvQANuK-fipO2yMTVPNeGHbhhtJcQ4LDO5W0dev0St_3TGU',\n",
       "  'https://play-lh.googleusercontent.com/1kHfmEFklApMf1pm9gK4ttb_oVbzMhx53pZa-xGQv_7_W90a7JcrWNDc9SkcE7M3W-ZF'],\n",
       " 'title': 'Panda Express',\n",
       " 'score': 4.5540814,\n",
       " 'genre': 'Food & Drink',\n",
       " 'price': 0,\n",
       " 'free': True,\n",
       " 'currency': 'USD',\n",
       " 'video': None,\n",
       " 'videoImage': None,\n",
       " 'description': \"Good Fortune Awaits with Panda Rewards and the Panda Express® App. Order your Panda favorites on the fly for dine-in, take out, or delivery. And you can earn Panda Points when you satisfy your Panda cravings! \\r\\n\\r\\nFeatures:\\r\\n\\r\\n* Join Panda Rewards and earn Panda Points with qualifying purchases by ordering in the app or scanning your QR code in store or in our drive-thru!\\r\\n* Get surprise offers and use your Panda Points to unlock more rewards and redeem them for your Panda favorites.\\r\\n* Order for dine-in, take-out, or delivery and get your food whenever you want—whether it's ASAP or scheduled for later.\\r\\n* Save and reorder your favorites with a single tap in your account!\\r\\n* Having a party? Our catering options are second to none. Just pick your sides + entrees and we’ve got you covered!\",\n",
       " 'descriptionHTML': 'Good Fortune Awaits with Panda Rewards and the Panda Express® App. Order your Panda favorites on the fly for dine-in, take out, or delivery. And you can earn Panda Points when you satisfy your Panda cravings! <br><br>Features:<br><br>* Join Panda Rewards and earn Panda Points with qualifying purchases by ordering in the app or scanning your QR code in store or in our drive-thru!<br>* Get surprise offers and use your Panda Points to unlock more rewards and redeem them for your Panda favorites.<br>* Order for dine-in, take-out, or delivery and get your food whenever you want—whether it&#39;s ASAP or scheduled for later.<br>* Save and reorder your favorites with a single tap in your account!<br>* Having a party? Our catering options are second to none. Just pick your sides + entrees and we’ve got you covered!',\n",
       " 'developer': 'Panda Restaurant Group, Inc.',\n",
       " 'installs': '1,000,000+'}"
      ]
     },
     "execution_count": 7,
     "metadata": {},
     "output_type": "execute_result"
    }
   ],
   "source": [
    "apps[0]"
   ]
  },
  {
   "cell_type": "code",
   "execution_count": 5,
   "id": "78842a8a",
   "metadata": {},
   "outputs": [],
   "source": [
    "import os"
   ]
  },
  {
   "cell_type": "code",
   "execution_count": 6,
   "id": "3ace9667",
   "metadata": {},
   "outputs": [],
   "source": [
    "l = 'data/app1/1.json'"
   ]
  },
  {
   "cell_type": "code",
   "execution_count": 8,
   "id": "34c62dbd",
   "metadata": {},
   "outputs": [
    {
     "data": {
      "text/plain": [
       "'data/app1'"
      ]
     },
     "execution_count": 8,
     "metadata": {},
     "output_type": "execute_result"
    }
   ],
   "source": [
    "os.path.dirname(l)"
   ]
  },
  {
   "cell_type": "code",
   "execution_count": null,
   "id": "824cbd10",
   "metadata": {},
   "outputs": [],
   "source": [
    "os.path."
   ]
  }
 ],
 "metadata": {
  "kernelspec": {
   "display_name": "Python 3 (ipykernel)",
   "language": "python",
   "name": "python3"
  },
  "language_info": {
   "codemirror_mode": {
    "name": "ipython",
    "version": 3
   },
   "file_extension": ".py",
   "mimetype": "text/x-python",
   "name": "python",
   "nbconvert_exporter": "python",
   "pygments_lexer": "ipython3",
   "version": "3.10.10"
  }
 },
 "nbformat": 4,
 "nbformat_minor": 5
}
