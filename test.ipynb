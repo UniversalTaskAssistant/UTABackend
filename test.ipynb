{
 "cells": [
  {
   "cell_type": "markdown",
   "id": "8d909a1a",
   "metadata": {},
   "source": [
    "## Section 1 - UI Acquiring and Processing"
   ]
  },
  {
   "cell_type": "code",
   "execution_count": 1,
   "id": "d37f14a4",
   "metadata": {},
   "outputs": [],
   "source": [
    "from SystemConnection import _Device\n",
    "device = _Device()\n",
    "device.connect()\n",
    "screen_path, xml_path = device.cap_and_save_ui_screenshot_and_xml(1, 'data/device')"
   ]
  },
  {
   "cell_type": "code",
   "execution_count": 5,
   "id": "b07828c5",
   "metadata": {
    "scrolled": true
   },
   "outputs": [
    {
     "name": "stderr",
     "output_type": "stream",
     "text": [
      "C:\\Users\\xie029\\AppData\\Local\\Programs\\Python\\Python310\\lib\\site-packages\\tqdm\\auto.py:22: TqdmWarning: IProgress not found. Please update jupyter and ipywidgets. See https://ipywidgets.readthedocs.io/en/stable/user_install.html\n",
      "  from .autonotebook import tqdm as notebook_tqdm\n"
     ]
    }
   ],
   "source": [
    "from ModelManagement import ModelManager\n",
    "model_mg = ModelManager()\n",
    "model_mg.initialize_vision_model()"
   ]
  },
  {
   "cell_type": "code",
   "execution_count": 7,
   "id": "a9d119cb",
   "metadata": {},
   "outputs": [],
   "source": [
    "from UIProcessing.UIProcessor import UIProcessor\n",
    "ui = UIProcessor(model_manager=model_mg)"
   ]
  },
  {
   "cell_type": "code",
   "execution_count": 9,
   "id": "f120a542",
   "metadata": {},
   "outputs": [
    {
     "name": "stdout",
     "output_type": "stream",
     "text": [
      "OCR Time: 2.033s\n",
      "CLs Time: 6.060s\n"
     ]
    }
   ],
   "source": [
    "ui_data = ui.load_ui_data(screenshot_file=screen_path, xml_file=xml_path, ui_resize=device.get_device_resolution())\n",
    "ui.process_ui()\n",
    "ui_data.show_all_elements()"
   ]
  },
  {
   "cell_type": "markdown",
   "id": "d51a1cfe",
   "metadata": {},
   "source": [
    "## Section 2 - Task Declaration"
   ]
  },
  {
   "cell_type": "code",
   "execution_count": 1,
   "id": "2efd7485",
   "metadata": {},
   "outputs": [
    {
     "name": "stderr",
     "output_type": "stream",
     "text": [
      "C:\\Users\\xie029\\AppData\\Local\\Programs\\Python\\Python310\\lib\\site-packages\\tqdm\\auto.py:22: TqdmWarning: IProgress not found. Please update jupyter and ipywidgets. See https://ipywidgets.readthedocs.io/en/stable/user_install.html\n",
      "  from .autonotebook import tqdm as notebook_tqdm\n"
     ]
    },
    {
     "name": "stdout",
     "output_type": "stream",
     "text": [
      "{'Clear': 'False', 'Question': 'What is the content of the message you want to send to your mom?'}\n",
      "{'Decompose': True, 'Sub-tasks': ['Open WeChat', 'Send a message to my mom on WeChat'], 'Explanation': 'The given task contains two independent subtasks that should be completed sequentially.'}\n",
      "{'Task Type': '3. App Related Task', 'Explanation': \"The task requires the use of a specific app, WeChat, to send a message to the user's mom.\"}\n"
     ]
    }
   ],
   "source": [
    "from ModelManagement import ModelManager\n",
    "model_mg = ModelManager()\n",
    "model_mg.initialize_llm_model(identifier='task_decomposer')"
   ]
  },
  {
   "cell_type": "code",
   "execution_count": null,
   "id": "a8c3b4ca",
   "metadata": {},
   "outputs": [],
   "source": [
    "from TaskDeclearation.TaskDeclaration import TaskDeclarator\n",
    "task_declarator = TaskDeclarator(model_manager=model_mg)"
   ]
  },
  {
   "cell_type": "code",
   "execution_count": null,
   "id": "b39cd01d",
   "metadata": {},
   "outputs": [],
   "source": [
    "task = 'Open wechat and send my mom a message'"
   ]
  },
  {
   "cell_type": "code",
   "execution_count": null,
   "id": "52af6fff",
   "metadata": {},
   "outputs": [],
   "source": [
    "task_declarator.initialize_task_clarifier('task_clarifier1')\n",
    "task_declarator.clarify_task(clarifier_identifier='task_clarifier1', org_task=task)\n",
    "task_declarator.initialize_task_decomposer('task_dec1')\n",
    "task_declarator.decompose_task(decomposer_identifier='task_dec1', task=task)\n",
    "task_declarator.initialize_task_classifier('task_cls1')\n",
    "task_declarator.classify_task(classifier_identifier='task_cls1', task=task)"
   ]
  }
 ],
 "metadata": {
  "kernelspec": {
   "display_name": "Python 3 (ipykernel)",
   "language": "python",
   "name": "python3"
  },
  "language_info": {
   "codemirror_mode": {
    "name": "ipython",
    "version": 3
   },
   "file_extension": ".py",
   "mimetype": "text/x-python",
   "name": "python",
   "nbconvert_exporter": "python",
   "pygments_lexer": "ipython3",
   "version": "3.10.10"
  }
 },
 "nbformat": 4,
 "nbformat_minor": 5
}
