{
 "cells": [
  {
   "cell_type": "code",
   "execution_count": 1,
   "id": "d37f14a4",
   "metadata": {},
   "outputs": [],
   "source": [
    "from SystemConnection import _Device"
   ]
  },
  {
   "cell_type": "code",
   "execution_count": 2,
   "id": "1a08cd48",
   "metadata": {},
   "outputs": [],
   "source": [
    "device = _Device()\n",
    "device.connect()\n",
    "screen_path, xml_path = device.cap_and_save_ui_screenshot_and_xml(1, 'data/device')"
   ]
  },
  {
   "cell_type": "code",
   "execution_count": null,
   "id": "24db3e35",
   "metadata": {},
   "outputs": [],
   "source": []
  },
  {
   "cell_type": "code",
   "execution_count": 5,
   "id": "b07828c5",
   "metadata": {
    "scrolled": true
   },
   "outputs": [
    {
     "name": "stderr",
     "output_type": "stream",
     "text": [
      "C:\\Users\\xie029\\AppData\\Local\\Programs\\Python\\Python310\\lib\\site-packages\\tqdm\\auto.py:22: TqdmWarning: IProgress not found. Please update jupyter and ipywidgets. See https://ipywidgets.readthedocs.io/en/stable/user_install.html\n",
      "  from .autonotebook import tqdm as notebook_tqdm\n"
     ]
    }
   ],
   "source": [
    "from ModelManagement import ModelManager"
   ]
  },
  {
   "cell_type": "code",
   "execution_count": 6,
   "id": "b8ed939a",
   "metadata": {},
   "outputs": [
    {
     "name": "stdout",
     "output_type": "stream",
     "text": [
      "Load Classifier Model: 0.219s\n"
     ]
    }
   ],
   "source": [
    "model_mg = ModelManager()\n",
    "model_mg.initialize_vision_model()"
   ]
  },
  {
   "cell_type": "code",
   "execution_count": null,
   "id": "ce2d2a5e",
   "metadata": {},
   "outputs": [],
   "source": []
  },
  {
   "cell_type": "code",
   "execution_count": 7,
   "id": "a9d119cb",
   "metadata": {},
   "outputs": [],
   "source": [
    "from UIProcessing.UIProcessor import UIProcessor"
   ]
  },
  {
   "cell_type": "code",
   "execution_count": 9,
   "id": "f120a542",
   "metadata": {},
   "outputs": [
    {
     "name": "stdout",
     "output_type": "stream",
     "text": [
      "OCR Time: 2.033s\n",
      "CLs Time: 6.060s\n"
     ]
    }
   ],
   "source": [
    "ui = UIProcessor(model_manager=model_mg)\n",
    "ui_data = ui.load_ui_data(screenshot_file=screen_path, xml_file=xml_path, ui_resize=device.get_device_resolution())\n",
    "ui.process_ui()\n",
    "ui_data.show_all_elements()"
   ]
  },
  {
   "cell_type": "code",
   "execution_count": 10,
   "id": "18c11591",
   "metadata": {},
   "outputs": [],
   "source": []
  },
  {
   "cell_type": "code",
   "execution_count": null,
   "id": "2efd7485",
   "metadata": {},
   "outputs": [],
   "source": []
  }
 ],
 "metadata": {
  "kernelspec": {
   "display_name": "Python 3 (ipykernel)",
   "language": "python",
   "name": "python3"
  },
  "language_info": {
   "codemirror_mode": {
    "name": "ipython",
    "version": 3
   },
   "file_extension": ".py",
   "mimetype": "text/x-python",
   "name": "python",
   "nbconvert_exporter": "python",
   "pygments_lexer": "ipython3",
   "version": "3.10.10"
  }
 },
 "nbformat": 4,
 "nbformat_minor": 5
}
