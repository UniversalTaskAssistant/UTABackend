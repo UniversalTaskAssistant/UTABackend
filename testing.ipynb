{
 "cells": [
  {
   "cell_type": "code",
   "execution_count": 1,
   "id": "55bba670",
   "metadata": {},
   "outputs": [
    {
     "name": "stderr",
     "output_type": "stream",
     "text": [
      "C:\\Users\\xie029\\AppData\\Local\\Programs\\Python\\Python310\\lib\\site-packages\\tqdm\\auto.py:22: TqdmWarning: IProgress not found. Please update jupyter and ipywidgets. See https://ipywidgets.readthedocs.io/en/stable/user_install.html\n",
      "  from .autonotebook import tqdm as notebook_tqdm\n"
     ]
    }
   ],
   "source": [
    "from DataStructures.Task import Task\n",
    "from UTA import UTA\n",
    "import json"
   ]
  },
  {
   "cell_type": "code",
   "execution_count": 2,
   "id": "4117af8c",
   "metadata": {},
   "outputs": [
    {
     "name": "stdout",
     "output_type": "stream",
     "text": [
      "Load Classifier Model: 0.229s\n"
     ]
    }
   ],
   "source": [
    "uta = UTA()"
   ]
  },
  {
   "cell_type": "code",
   "execution_count": 3,
   "id": "a53629a2",
   "metadata": {},
   "outputs": [
    {
     "name": "stdout",
     "output_type": "stream",
     "text": [
      "Export task to file ./data/users\\1\\1.json\n"
     ]
    },
    {
     "data": {
      "text/plain": [
       "{'Clear': 'False',\n",
       " 'Question': \"Which communication app or service do you want to use to send 'hello' to your mom?\"}"
      ]
     },
     "execution_count": 3,
     "metadata": {},
     "output_type": "execute_result"
    }
   ],
   "source": [
    "uta.declare_task(user_id='1', task_id='1', user_msg='Send \"hello\" to my mom')"
   ]
  },
  {
   "cell_type": "code",
   "execution_count": 4,
   "id": "f5c246db",
   "metadata": {},
   "outputs": [
    {
     "data": {
      "text/plain": [
       "{'task_id': '1',\n",
       " 'user_id': '1',\n",
       " 'parent_task_id': None,\n",
       " 'task_description': 'Send \"hello\" to my mom',\n",
       " 'task_type': None,\n",
       " 'children_ids': [],\n",
       " 'conversation_clarification': [{'role': 'system',\n",
       "   'content': 'You are a mobile virtual assistant that understands and interacts with the user interface to complete a given task.'},\n",
       "  {'role': 'user',\n",
       "   'content': 'Assess the user task \"Send \"hello\" to my mom\" to determine if it is sufficiently clear for execution on a smartphone. Given that seniors often provide vague or incomplete task descriptions, identify the most crucial piece of missing information. Ask a single, focused question that is most likely to clarify the task effectively. Return your analysis in JSON format, comprising: 1. \"Clear\": a boolean indicating if the task is clear enough as is, 2. \"Question\": a single question to obtain the most essential missing detail for task clarification. Example response for a clear task: {\"Clear\": \"True\", \"Question\": \"\"} Example response for an unclear task: {\"Clear\": \"False\", \"Question\": \"What is the full name of the person you want to contact?\"} or {\"Clear\": \"False\", \"Question\": \"Which app would you prefer to use for this communication?\"}'},\n",
       "  {'role': 'assistant',\n",
       "   'content': '{\"Clear\": \"False\", \"Question\": \"Which communication app or service do you want to use to send \\'hello\\' to your mom?\"}'}],\n",
       " 'res_clarification': {'Clear': 'False',\n",
       "  'Question': \"Which communication app or service do you want to use to send 'hello' to your mom?\"},\n",
       " 'res_decomposition': {},\n",
       " 'res_classification': {},\n",
       " 'conversation_automation': [{'role': 'system',\n",
       "   'content': 'You are a mobile virtual assistant that understands and interacts with the user interface to complete a given task.'}],\n",
       " 'steps': [],\n",
       " 'task_execution_result': None}"
      ]
     },
     "execution_count": 4,
     "metadata": {},
     "output_type": "execute_result"
    }
   ],
   "source": [
    "uta.cur_task.to_dict()"
   ]
  },
  {
   "cell_type": "code",
   "execution_count": null,
   "id": "eaa658da",
   "metadata": {},
   "outputs": [
    {
     "name": "stdout",
     "output_type": "stream",
     "text": [
      "Import task from file ./data/users\\1\\1.json\n"
     ]
    }
   ],
   "source": [
    "uta.declare_task(user_id='1', task_id='1', user_msg='Send it in whats app')"
   ]
  },
  {
   "cell_type": "code",
   "execution_count": null,
   "id": "6a7f87e3",
   "metadata": {},
   "outputs": [],
   "source": []
  },
  {
   "cell_type": "code",
   "execution_count": null,
   "id": "ed6f9d3a",
   "metadata": {},
   "outputs": [],
   "source": []
  },
  {
   "cell_type": "code",
   "execution_count": 5,
   "id": "654526c3",
   "metadata": {},
   "outputs": [],
   "source": [
    "data = uta.system_connector.load_json('data/users/1/1.json')"
   ]
  },
  {
   "cell_type": "code",
   "execution_count": 7,
   "id": "767e3984",
   "metadata": {},
   "outputs": [
    {
     "ename": "TypeError",
     "evalue": "_Data.set_attributes() takes 1 positional argument but 2 were given",
     "output_type": "error",
     "traceback": [
      "\u001b[1;31m---------------------------------------------------------------------------\u001b[0m",
      "\u001b[1;31mTypeError\u001b[0m                                 Traceback (most recent call last)",
      "Cell \u001b[1;32mIn[7], line 1\u001b[0m\n\u001b[1;32m----> 1\u001b[0m \u001b[43mtask\u001b[49m\u001b[38;5;241;43m.\u001b[39;49m\u001b[43mset_attributes\u001b[49m\u001b[43m(\u001b[49m\u001b[43mdata\u001b[49m\u001b[43m)\u001b[49m\n",
      "\u001b[1;31mTypeError\u001b[0m: _Data.set_attributes() takes 1 positional argument but 2 were given"
     ]
    }
   ],
   "source": [
    "task.set_attributes(data)"
   ]
  },
  {
   "cell_type": "code",
   "execution_count": 9,
   "id": "f4a1b2ec",
   "metadata": {},
   "outputs": [],
   "source": [
    "for key, value in data.items():\n",
    "    if hasattr(task, key):\n",
    "        setattr(task, key, value)"
   ]
  },
  {
   "cell_type": "code",
   "execution_count": 11,
   "id": "2b5c5649",
   "metadata": {},
   "outputs": [
    {
     "data": {
      "text/plain": [
       "{'task_id': '1',\n",
       " 'user_id': '1',\n",
       " 'parent_task_id': None,\n",
       " 'task_description': None,\n",
       " 'task_type': None,\n",
       " 'children_ids': [],\n",
       " 'conversation_clarification': [{'role': 'system',\n",
       "   'content': 'You are a mobile virtual assistant that understands and interacts with the user interface to complete a given task.'}],\n",
       " 'res_clarification': {},\n",
       " 'res_decomposition': {},\n",
       " 'res_classification': {},\n",
       " 'conversation_automation': [{'role': 'system',\n",
       "   'content': 'You are a mobile virtual assistant that understands and interacts with the user interface to complete a given task.'}],\n",
       " 'steps': [],\n",
       " 'task_execution_result': None}"
      ]
     },
     "execution_count": 11,
     "metadata": {},
     "output_type": "execute_result"
    }
   ],
   "source": [
    "task.to_dict()"
   ]
  },
  {
   "cell_type": "code",
   "execution_count": null,
   "id": "638a5e57",
   "metadata": {},
   "outputs": [],
   "source": []
  },
  {
   "cell_type": "code",
   "execution_count": null,
   "id": "6d1e0d4b",
   "metadata": {},
   "outputs": [],
   "source": []
  },
  {
   "cell_type": "code",
   "execution_count": 6,
   "id": "ebb9ab4c",
   "metadata": {},
   "outputs": [],
   "source": [
    "task = Task(task_id='1', user_id='2', task_description='Send a message to my mom')"
   ]
  },
  {
   "cell_type": "code",
   "execution_count": 7,
   "id": "749a7e8e",
   "metadata": {},
   "outputs": [
    {
     "name": "stdout",
     "output_type": "stream",
     "text": [
      "*** Asking ***\n",
      " [{'role': 'system', 'content': 'You are a mobile virtual assistant that understands and interacts with the user interface to complete a given task.'}, {'role': 'user', 'content': 'Assess the user task \"Send a message to my mom\" to determine if it is sufficiently clear for execution on a smartphone. Given that seniors often provide vague or incomplete task descriptions, identify the most crucial piece of missing information. Ask a single, focused question that is most likely to clarify the task effectively. Return your analysis in JSON format, comprising: 1. \"Clear\": a boolean indicating if the task is clear enough as is, 2. \"Question\": a single question to obtain the most essential missing detail for task clarification. Example response for a clear task: {\"Clear\": \"True\", \"Question\": \"\"} Example response for an unclear task: {\"Clear\": \"False\", \"Question\": \"What is the full name of the person you want to contact?\"} or {\"Clear\": \"False\", \"Question\": \"Which app would you prefer to use for this communication?\"}'}]\n",
      "\n",
      "*** Answer ***\n",
      " {'role': 'assistant', 'content': '{\"Clear\": \"False\", \"Question\": \"What is the content of the message you want to send to your mom?\"}'} \n",
      "\n"
     ]
    },
    {
     "data": {
      "text/plain": [
       "{'Clear': 'False',\n",
       " 'Question': 'What is the content of the message you want to send to your mom?'}"
      ]
     },
     "execution_count": 7,
     "metadata": {},
     "output_type": "execute_result"
    }
   ],
   "source": [
    "uta.clarify_task(task, printlog=True)"
   ]
  },
  {
   "cell_type": "code",
   "execution_count": 10,
   "id": "1081c328",
   "metadata": {},
   "outputs": [
    {
     "data": {
      "text/plain": [
       "True"
      ]
     },
     "execution_count": 10,
     "metadata": {},
     "output_type": "execute_result"
    }
   ],
   "source": [
    "task.res_clarification['Clear']"
   ]
  },
  {
   "cell_type": "code",
   "execution_count": 6,
   "id": "f5cfed2c",
   "metadata": {},
   "outputs": [
    {
     "name": "stdout",
     "output_type": "stream",
     "text": [
      "*** Asking ***\n",
      " [{'role': 'system', 'content': 'You are a mobile virtual assistant that understands and interacts with the user interface to complete a given task.'}, {'role': 'user', 'content': 'Analyze the user task \"Send a message to my mom\" to determine if it comprises multiple, distinct sub-tasks. Complex tasks often consist of several steps that need to be executed separately. For instance, the task \"Login to Facebook and send a message to Sam Wellson\" involves two separate actions: logging into Facebook and sending a message. Identify if the given task requires decomposition and if so, break it down into its constituent sub-tasks. Provide your analysis in JSON format, including: 1. \"Decompose\": a boolean string indicating whether the task should be decomposed, 2. \"Sub-tasks\": an array of the identified sub-tasks, or \"None\" if no decomposition is needed, 3. \"Explanation\": a brief explanation of your decision. Example: {\"Decompose\": \"True\", \"Sub-tasks\": [\"Login to Facebook\", \"Send message to Sam Wellson on Facebook\"], \"Explanation\": \"The task contains two independent actions that need to be completed sequentially.\"}'}]\n",
      "\n",
      "*** Answer ***\n",
      " {'role': 'assistant', 'content': '{\"Decompose\": \"True\", \"Sub-tasks\": [\"Open messaging application\", \"Select contact \\'Mom\\'\", \"Create message content\", \"Send message\"], \"Explanation\": \"The task consists of a few distinct actions. The actions can potentially be executed independently due to which the task should be decomposed.\"}'} \n",
      "\n"
     ]
    },
    {
     "data": {
      "text/plain": [
       "{'Decompose': 'True',\n",
       " 'Sub-tasks': ['Open messaging application',\n",
       "  \"Select contact 'Mom'\",\n",
       "  'Create message content',\n",
       "  'Send message'],\n",
       " 'Explanation': 'The task consists of a few distinct actions. The actions can potentially be executed independently due to which the task should be decomposed.'}"
      ]
     },
     "execution_count": 6,
     "metadata": {},
     "output_type": "execute_result"
    }
   ],
   "source": [
    "uta.decompose_task(task, printlog=True)"
   ]
  },
  {
   "cell_type": "code",
   "execution_count": 7,
   "id": "c48be616",
   "metadata": {},
   "outputs": [
    {
     "name": "stdout",
     "output_type": "stream",
     "text": [
      "*** Asking ***\n",
      " [{'role': 'system', 'content': 'You are a mobile virtual assistant that understands and interacts with the user interface to complete a given task.'}, {'role': 'user', 'content': 'Classify the given user task \"Send a message to my mom\" into one of three categories for smartphone usage: 1. General Inquiry: This category includes tasks that are general questions not related to specific system or app functions. They can typically be answered through internet searches. Example: \"What is the weather today?\" 2. System Function: These are tasks that involve system-level functions of the smartphone. Examples include adjusting settings or using built-in features like alarms. Example: \"Turn up the brightness\", \"Set an alarm at 2 pm\". 3. App-Related Task: Tasks in this category require the use of specific applications to accomplish the objective. Examples include using ride-sharing apps or streaming services. Example: \"Book a ride to my home using Uber\", \"Watch a movie on YouTube\". Determine which category the task \"Send a message to my mom\" falls into. Output your classification in JSON format with two elements: 1. \"Task Type\" indicating the category, and 2. \"Explanation\" providing a brief rationale for your classification. Example: {\"Task Type\": \"General Inquiry\", \"Explanation\": \"This task is a general query that can be resolved through an internet search, without the need for system-level access or specific apps.\"}'}]\n",
      "\n",
      "*** Answer ***\n",
      " {'role': 'assistant', 'content': '{\"Task Type\": \"App-Related Task\", \"Explanation\": \"This task requires the use of a specific application like a messaging app or the phone\\'s built-in SMS function to send a message to the user\\'s mom.\"}'} \n",
      "\n"
     ]
    },
    {
     "data": {
      "text/plain": [
       "{'Task Type': 'App-Related Task',\n",
       " 'Explanation': \"This task requires the use of a specific application like a messaging app or the phone's built-in SMS function to send a message to the user's mom.\"}"
      ]
     },
     "execution_count": 7,
     "metadata": {},
     "output_type": "execute_result"
    }
   ],
   "source": [
    "uta.classify_task(task, printlog=True)"
   ]
  },
  {
   "cell_type": "code",
   "execution_count": null,
   "id": "f13daf38",
   "metadata": {},
   "outputs": [],
   "source": []
  },
  {
   "cell_type": "code",
   "execution_count": 4,
   "id": "f4ccdb1c",
   "metadata": {},
   "outputs": [],
   "source": [
    "import os"
   ]
  },
  {
   "cell_type": "code",
   "execution_count": 6,
   "id": "6d44e051",
   "metadata": {},
   "outputs": [
    {
     "data": {
      "text/plain": [
       "True"
      ]
     },
     "execution_count": 6,
     "metadata": {},
     "output_type": "execute_result"
    }
   ],
   "source": [
    "os.path.exists('./data/users/user1')"
   ]
  },
  {
   "cell_type": "code",
   "execution_count": null,
   "id": "8df4a7d2",
   "metadata": {},
   "outputs": [],
   "source": []
  }
 ],
 "metadata": {
  "kernelspec": {
   "display_name": "Python 3 (ipykernel)",
   "language": "python",
   "name": "python3"
  },
  "language_info": {
   "codemirror_mode": {
    "name": "ipython",
    "version": 3
   },
   "file_extension": ".py",
   "mimetype": "text/x-python",
   "name": "python",
   "nbconvert_exporter": "python",
   "pygments_lexer": "ipython3",
   "version": "3.10.10"
  }
 },
 "nbformat": 4,
 "nbformat_minor": 5
}
