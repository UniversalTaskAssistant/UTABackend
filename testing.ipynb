{
 "cells": [
  {
   "cell_type": "code",
   "execution_count": 5,
   "id": "3664b952",
   "metadata": {},
   "outputs": [],
   "source": [
    "from datetime import datetime"
   ]
  },
  {
   "cell_type": "code",
   "execution_count": 14,
   "id": "42052905",
   "metadata": {},
   "outputs": [],
   "source": [
    "t = "
   ]
  },
  {
   "cell_type": "code",
   "execution_count": 22,
   "id": "cb443624",
   "metadata": {},
   "outputs": [
    {
     "data": {
      "text/plain": [
       "'24-01-05-11:07:54'"
      ]
     },
     "execution_count": 22,
     "metadata": {},
     "output_type": "execute_result"
    }
   ],
   "source": [
    "datetime.now().strftime(\"%y-%m-%d-%H:%M:%S\")"
   ]
  },
  {
   "cell_type": "code",
   "execution_count": null,
   "id": "afb33e4b",
   "metadata": {},
   "outputs": [],
   "source": []
  },
  {
   "cell_type": "code",
   "execution_count": null,
   "id": "1735f603",
   "metadata": {},
   "outputs": [],
   "source": []
  },
  {
   "cell_type": "code",
   "execution_count": 1,
   "id": "55bba670",
   "metadata": {},
   "outputs": [
    {
     "name": "stderr",
     "output_type": "stream",
     "text": [
      "C:\\Users\\xie029\\AppData\\Local\\Programs\\Python\\Python310\\lib\\site-packages\\tqdm\\auto.py:22: TqdmWarning: IProgress not found. Please update jupyter and ipywidgets. See https://ipywidgets.readthedocs.io/en/stable/user_install.html\n",
      "  from .autonotebook import tqdm as notebook_tqdm\n"
     ]
    }
   ],
   "source": [
    "from UTA import UTA"
   ]
  },
  {
   "cell_type": "code",
   "execution_count": 2,
   "id": "4117af8c",
   "metadata": {},
   "outputs": [
    {
     "name": "stdout",
     "output_type": "stream",
     "text": [
      "Load Classifier Model: 0.236s\n"
     ]
    }
   ],
   "source": [
    "uta = UTA(user_id=1)"
   ]
  },
  {
   "cell_type": "code",
   "execution_count": 3,
   "id": "7f728900",
   "metadata": {},
   "outputs": [],
   "source": [
    "uta.initialize_agents()"
   ]
  },
  {
   "cell_type": "code",
   "execution_count": 4,
   "id": "ebb9ab4c",
   "metadata": {},
   "outputs": [],
   "source": [
    "task = 'Send a message to my mom'"
   ]
  },
  {
   "cell_type": "code",
   "execution_count": 5,
   "id": "749a7e8e",
   "metadata": {},
   "outputs": [
    {
     "name": "stdout",
     "output_type": "stream",
     "text": [
      "{'Clear': 'False', 'Question': 'Which app would you like to use to send the message?'}\n"
     ]
    },
    {
     "data": {
      "text/plain": [
       "{'Clear': 'False',\n",
       " 'Question': 'Which app would you like to use to send the message?'}"
      ]
     },
     "execution_count": 5,
     "metadata": {},
     "output_type": "execute_result"
    }
   ],
   "source": [
    "uta.clarify_task(task)"
   ]
  },
  {
   "cell_type": "code",
   "execution_count": 6,
   "id": "7f187847",
   "metadata": {},
   "outputs": [
    {
     "name": "stdout",
     "output_type": "stream",
     "text": [
      "{'task clarifier': <ModelManagement.LLMModel._LLMModel._LLMModel object at 0x0000019490703250>, 'task classifier': <ModelManagement.LLMModel._LLMModel._LLMModel object at 0x00000194D71E6830>, 'task decomposer': <ModelManagement.LLMModel._LLMModel._LLMModel object at 0x00000194D7216800>, 'app_analyser': <ModelManagement.LLMModel._LLMModel._LLMModel object at 0x00000194D7216EC0>, 'action checker': <ModelManagement.LLMModel._LLMModel._LLMModel object at 0x00000194D7217940>, 'app analyser': <ModelManagement.LLMModel._LLMModel._LLMModel object at 0x00000194D7217430>, 'app checker': <ModelManagement.LLMModel._LLMModel._LLMModel object at 0x00000194D727FD30>, 'inquiry_tasker': <ModelManagement.LLMModel._LLMModel._LLMModel object at 0x0000019490703220>}\n"
     ]
    }
   ],
   "source": [
    "uta.model_manager.get_all_llm_models()"
   ]
  },
  {
   "cell_type": "code",
   "execution_count": 7,
   "id": "d6812be6",
   "metadata": {},
   "outputs": [
    {
     "data": {
      "text/plain": [
       "[{'role': 'user',\n",
       "  'content': 'Assess the user task \"Send a message to my mom\" to determine if it is sufficiently clear for execution on a smartphone. Given that seniors often provide vague or incomplete task descriptions, identify the most crucial piece of missing information. Ask a single, focused question that is most likely to clarify the task effectively. Return your analysis in JSON format, comprising: 1. \"Clear\": a boolean indicating if the task is clear enough as is, 2. \"Question\": a single question to obtain the most essential missing detail for task clarification. Example response for a clear task: {\"Clear\": \"True\", \"Question\": \"\"} Example response for an unclear task: {\"Clear\": \"False\", \"Question\": \"What is the full name of the person you want to contact?\"} or {\"Clear\": \"False\", \"Question\": \"Which app would you prefer to use for this communication?\"}'},\n",
       " {'role': 'assistant',\n",
       "  'content': '{\"Clear\": \"False\", \"Question\": \"Which app would you like to use to send the message?\"}'}]"
      ]
     },
     "execution_count": 7,
     "metadata": {},
     "output_type": "execute_result"
    }
   ],
   "source": [
    "uta.model_manager.get_llm_conversations('task clarifier')"
   ]
  },
  {
   "cell_type": "code",
   "execution_count": null,
   "id": "7a9a9ced",
   "metadata": {},
   "outputs": [],
   "source": []
  }
 ],
 "metadata": {
  "kernelspec": {
   "display_name": "Python 3 (ipykernel)",
   "language": "python",
   "name": "python3"
  },
  "language_info": {
   "codemirror_mode": {
    "name": "ipython",
    "version": 3
   },
   "file_extension": ".py",
   "mimetype": "text/x-python",
   "name": "python",
   "nbconvert_exporter": "python",
   "pygments_lexer": "ipython3",
   "version": "3.10.10"
  }
 },
 "nbformat": 4,
 "nbformat_minor": 5
}
