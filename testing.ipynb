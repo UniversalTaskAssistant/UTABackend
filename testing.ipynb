{
 "cells": [
  {
   "cell_type": "code",
   "execution_count": 1,
   "id": "267bde79",
   "metadata": {},
   "outputs": [],
   "source": [
    "from DataStructures.Task import Task"
   ]
  },
  {
   "cell_type": "code",
   "execution_count": 2,
   "id": "55bba670",
   "metadata": {},
   "outputs": [
    {
     "name": "stderr",
     "output_type": "stream",
     "text": [
      "C:\\Users\\xie029\\AppData\\Local\\Programs\\Python\\Python310\\lib\\site-packages\\tqdm\\auto.py:22: TqdmWarning: IProgress not found. Please update jupyter and ipywidgets. See https://ipywidgets.readthedocs.io/en/stable/user_install.html\n",
      "  from .autonotebook import tqdm as notebook_tqdm\n"
     ]
    }
   ],
   "source": [
    "from UTA import UTA"
   ]
  },
  {
   "cell_type": "code",
   "execution_count": 3,
   "id": "4117af8c",
   "metadata": {},
   "outputs": [
    {
     "name": "stdout",
     "output_type": "stream",
     "text": [
      "Load Classifier Model: 0.203s\n"
     ]
    }
   ],
   "source": [
    "uta = UTA()"
   ]
  },
  {
   "cell_type": "code",
   "execution_count": 4,
   "id": "ebb9ab4c",
   "metadata": {},
   "outputs": [],
   "source": [
    "task = Task(task_id='1', task_description='Send a message to my mom')"
   ]
  },
  {
   "cell_type": "code",
   "execution_count": 5,
   "id": "749a7e8e",
   "metadata": {},
   "outputs": [
    {
     "name": "stdout",
     "output_type": "stream",
     "text": [
      "*** Asking ***\n",
      " [{'role': 'system', 'content': 'You are a mobile virtual assistant that understands and interacts with the user interface to complete a given task.'}, {'role': 'user', 'content': 'Assess the user task \"Send a message to my mom\" to determine if it is sufficiently clear for execution on a smartphone. Given that seniors often provide vague or incomplete task descriptions, identify the most crucial piece of missing information. Ask a single, focused question that is most likely to clarify the task effectively. Return your analysis in JSON format, comprising: 1. \"Clear\": a boolean indicating if the task is clear enough as is, 2. \"Question\": a single question to obtain the most essential missing detail for task clarification. Example response for a clear task: {\"Clear\": \"True\", \"Question\": \"\"} Example response for an unclear task: {\"Clear\": \"False\", \"Question\": \"What is the full name of the person you want to contact?\"} or {\"Clear\": \"False\", \"Question\": \"Which app would you prefer to use for this communication?\"}'}]\n",
      "\n",
      "*** Answer ***\n",
      " {'role': 'assistant', 'content': '{\"Clear\": \"False\", \"Question\": \"What content do you want to include in the message to your mom?\"}'} \n",
      "\n"
     ]
    },
    {
     "data": {
      "text/plain": [
       "{'Clear': 'False',\n",
       " 'Question': 'What content do you want to include in the message to your mom?'}"
      ]
     },
     "execution_count": 5,
     "metadata": {},
     "output_type": "execute_result"
    }
   ],
   "source": [
    "uta.clarify_task(task, printlog=True)"
   ]
  },
  {
   "cell_type": "code",
   "execution_count": 6,
   "id": "40ef8eac",
   "metadata": {},
   "outputs": [
    {
     "name": "stdout",
     "output_type": "stream",
     "text": [
      "*** Asking ***\n",
      " [{'role': 'system', 'content': 'You are a mobile virtual assistant that understands and interacts with the user interface to complete a given task.'}, {'role': 'user', 'content': 'Analyze the user task \"Send a message to my mom\" to determine if it comprises multiple, distinct sub-tasks. Complex tasks often consist of several steps that need to be executed separately. For instance, the task \"Login to Facebook and send a message to Sam Wellson\" involves two separate actions: logging into Facebook and sending a message. Identify if the given task requires decomposition and if so, break it down into its constituent sub-tasks. Provide your analysis in JSON format, including: 1. \"Decompose\": a boolean string indicating whether the task should be decomposed, 2. \"Sub-tasks\": an array of the identified sub-tasks, or \"None\" if no decomposition is needed, 3. \"Explanation\": a brief explanation of your decision. Example: {\"Decompose\": \"True\", \"Sub-tasks\": [\"Login to Facebook\", \"Send message to Sam Wellson on Facebook\"], \"Explanation\": \"The task contains two independent actions that need to be completed sequentially.\"}'}]\n",
      "\n",
      "*** Answer ***\n",
      " {'role': 'assistant', 'content': '{\\n\"Decompose\": \"True\",\\n\"Sub-tasks\": [\"Access the messaging app\", \"Select the contact \\'mom\\'\", \"Compose the message\", \"Send the message\"],\\n\"Explanation\": \"The task requires multiple sequential actions: opening the messaging interface, navigating to the desired contact, writing the message, and finally, sending it.\"\\n}'} \n",
      "\n"
     ]
    },
    {
     "data": {
      "text/plain": [
       "{'Decompose': 'True',\n",
       " 'Sub-tasks': ['Access the messaging app',\n",
       "  \"Select the contact 'mom'\",\n",
       "  'Compose the message',\n",
       "  'Send the message'],\n",
       " 'Explanation': 'The task requires multiple sequential actions: opening the messaging interface, navigating to the desired contact, writing the message, and finally, sending it.'}"
      ]
     },
     "execution_count": 6,
     "metadata": {},
     "output_type": "execute_result"
    }
   ],
   "source": [
    "uta.decompose_task(task, printlog=True)"
   ]
  },
  {
   "cell_type": "code",
   "execution_count": null,
   "id": "c8f29d02",
   "metadata": {},
   "outputs": [],
   "source": []
  },
  {
   "cell_type": "code",
   "execution_count": 6,
   "id": "f7d1172e",
   "metadata": {},
   "outputs": [
    {
     "data": {
      "text/plain": [
       "[{'role': 'system',\n",
       "  'content': 'You are a mobile virtual assistant that understands and interacts with the user interface to complete a given task.'},\n",
       " {'role': 'user',\n",
       "  'content': 'Assess the user task \"Send a message to my mom\" to determine if it is sufficiently clear for execution on a smartphone. Given that seniors often provide vague or incomplete task descriptions, identify the most crucial piece of missing information. Ask a single, focused question that is most likely to clarify the task effectively. Return your analysis in JSON format, comprising: 1. \"Clear\": a boolean indicating if the task is clear enough as is, 2. \"Question\": a single question to obtain the most essential missing detail for task clarification. Example response for a clear task: {\"Clear\": \"True\", \"Question\": \"\"} Example response for an unclear task: {\"Clear\": \"False\", \"Question\": \"What is the full name of the person you want to contact?\"} or {\"Clear\": \"False\", \"Question\": \"Which app would you prefer to use for this communication?\"}'},\n",
       " {'role': 'assistant',\n",
       "  'content': '{\"Clear\": \"False\", \"Question\": \"What is the message you would like to send?\"}'}]"
      ]
     },
     "execution_count": 6,
     "metadata": {},
     "output_type": "execute_result"
    }
   ],
   "source": [
    "task.conversation_declaration"
   ]
  },
  {
   "cell_type": "code",
   "execution_count": null,
   "id": "8a222bad",
   "metadata": {},
   "outputs": [],
   "source": []
  },
  {
   "cell_type": "code",
   "execution_count": null,
   "id": "ceec63ee",
   "metadata": {},
   "outputs": [],
   "source": []
  },
  {
   "cell_type": "code",
   "execution_count": null,
   "id": "fd1e0b1c",
   "metadata": {},
   "outputs": [],
   "source": []
  },
  {
   "cell_type": "code",
   "execution_count": 6,
   "id": "7f187847",
   "metadata": {
    "scrolled": true
   },
   "outputs": [
    {
     "name": "stdout",
     "output_type": "stream",
     "text": [
      "{'task clarifier': <ModelManagement.LLMModel._LLMModel._LLMModel object at 0x0000019490703250>, 'task classifier': <ModelManagement.LLMModel._LLMModel._LLMModel object at 0x00000194D71E6830>, 'task decomposer': <ModelManagement.LLMModel._LLMModel._LLMModel object at 0x00000194D7216800>, 'app_analyser': <ModelManagement.LLMModel._LLMModel._LLMModel object at 0x00000194D7216EC0>, 'action checker': <ModelManagement.LLMModel._LLMModel._LLMModel object at 0x00000194D7217940>, 'app analyser': <ModelManagement.LLMModel._LLMModel._LLMModel object at 0x00000194D7217430>, 'app checker': <ModelManagement.LLMModel._LLMModel._LLMModel object at 0x00000194D727FD30>, 'inquiry_tasker': <ModelManagement.LLMModel._LLMModel._LLMModel object at 0x0000019490703220>}\n"
     ]
    }
   ],
   "source": [
    "uta.model_manager.get_all_llm_models()"
   ]
  },
  {
   "cell_type": "code",
   "execution_count": 7,
   "id": "d6812be6",
   "metadata": {},
   "outputs": [
    {
     "data": {
      "text/plain": [
       "[{'role': 'user',\n",
       "  'content': 'Assess the user task \"Send a message to my mom\" to determine if it is sufficiently clear for execution on a smartphone. Given that seniors often provide vague or incomplete task descriptions, identify the most crucial piece of missing information. Ask a single, focused question that is most likely to clarify the task effectively. Return your analysis in JSON format, comprising: 1. \"Clear\": a boolean indicating if the task is clear enough as is, 2. \"Question\": a single question to obtain the most essential missing detail for task clarification. Example response for a clear task: {\"Clear\": \"True\", \"Question\": \"\"} Example response for an unclear task: {\"Clear\": \"False\", \"Question\": \"What is the full name of the person you want to contact?\"} or {\"Clear\": \"False\", \"Question\": \"Which app would you prefer to use for this communication?\"}'},\n",
       " {'role': 'assistant',\n",
       "  'content': '{\"Clear\": \"False\", \"Question\": \"Which app would you like to use to send the message?\"}'}]"
      ]
     },
     "execution_count": 7,
     "metadata": {},
     "output_type": "execute_result"
    }
   ],
   "source": [
    "uta.model_manager.get_llm_conversations('task clarifier')"
   ]
  },
  {
   "cell_type": "code",
   "execution_count": null,
   "id": "99a634a2",
   "metadata": {},
   "outputs": [],
   "source": []
  },
  {
   "cell_type": "code",
   "execution_count": null,
   "id": "6e8e5125",
   "metadata": {},
   "outputs": [],
   "source": []
  },
  {
   "cell_type": "code",
   "execution_count": null,
   "id": "1338ba00",
   "metadata": {},
   "outputs": [],
   "source": []
  },
  {
   "cell_type": "code",
   "execution_count": null,
   "id": "b894c34c",
   "metadata": {},
   "outputs": [],
   "source": []
  },
  {
   "cell_type": "code",
   "execution_count": null,
   "id": "27c320c3",
   "metadata": {},
   "outputs": [],
   "source": []
  },
  {
   "cell_type": "code",
   "execution_count": null,
   "id": "cf97fbcf",
   "metadata": {},
   "outputs": [],
   "source": [
    "user1, task1 "
   ]
  },
  {
   "cell_type": "code",
   "execution_count": null,
   "id": "7a9a9ced",
   "metadata": {},
   "outputs": [],
   "source": [
    "uta.clarify_task(user_id, task_id)"
   ]
  }
 ],
 "metadata": {
  "kernelspec": {
   "display_name": "Python 3 (ipykernel)",
   "language": "python",
   "name": "python3"
  },
  "language_info": {
   "codemirror_mode": {
    "name": "ipython",
    "version": 3
   },
   "file_extension": ".py",
   "mimetype": "text/x-python",
   "name": "python",
   "nbconvert_exporter": "python",
   "pygments_lexer": "ipython3",
   "version": "3.10.10"
  }
 },
 "nbformat": 4,
 "nbformat_minor": 5
}
